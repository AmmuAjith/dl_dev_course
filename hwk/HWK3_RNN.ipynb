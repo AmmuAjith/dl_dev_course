{
 "cells": [
  {
   "cell_type": "code",
   "execution_count": 1,
   "metadata": {
    "collapsed": false,
    "deletable": true,
    "editable": true
   },
   "outputs": [
    {
     "name": "stdout",
     "output_type": "stream",
     "text": [
      "1.3.0\n"
     ]
    },
    {
     "name": "stderr",
     "output_type": "stream",
     "text": [
      "Couldn't import dot_parser, loading of dot files will not be possible.\n"
     ]
    }
   ],
   "source": [
    "import numpy as np\n",
    "import os\n",
    "import nltk\n",
    "import pandas as pd\n",
    "import tensorflow as tf\n",
    "import tensorflow.contrib.keras as keras\n",
    "import numpy as np\n",
    "import pickle\n",
    "\n",
    "\n",
    "print tf.__version__"
   ]
  },
  {
   "cell_type": "code",
   "execution_count": 2,
   "metadata": {
    "collapsed": true,
    "deletable": true,
    "editable": true
   },
   "outputs": [],
   "source": [
    "#from tensorflow.contrib.keras.api.keras.preprocessing import sequence\n",
    "from tensorflow.contrib.keras.api.keras.layers import Input, Embedding, GRU, Dense #, Activation\n",
    "from tensorflow.contrib.keras.api.keras.models import Model\n",
    "from tensorflow.contrib.keras.python.keras.layers import Bidirectional, TimeDistributed\n"
   ]
  },
  {
   "cell_type": "code",
   "execution_count": 3,
   "metadata": {
    "collapsed": true,
    "deletable": true,
    "editable": true
   },
   "outputs": [],
   "source": [
    "SENTENCE_LENGTH_MAX = 80\n",
    "EMBEDDING_DIM=50"
   ]
  },
  {
   "cell_type": "code",
   "execution_count": 4,
   "metadata": {
    "collapsed": false,
    "deletable": true,
    "editable": true
   },
   "outputs": [
    {
     "name": "stdout",
     "output_type": "stream",
     "text": [
      "   year       date   time                                               data  \\\n",
      "0  2016  oct_9.txt  06:23  Table Tennis: Feng Tianwei upset by Japanese t...   \n",
      "1  2016  oct_9.txt  06:00  Football: Immobile brings Italy back from the ...   \n",
      "2  2016  oct_9.txt  04:39  Football: Napoli striker Milik out for â€˜mont...   \n",
      "3  2016  oct_9.txt  04:23  Thousands of armed Yemeni protesters call for ...   \n",
      "4  2016  oct_9.txt  04:05  Football: Wales drop World Cup points in Georg...   \n",
      "\n",
      "                 site                               site2     date2  \\\n",
      "0  http://str.sg/4xhn  [http://str.sg/4xhn, PHOTO:, ITTF]  [10, 09]   \n",
      "1  http://str.sg/4xhW   [http://str.sg/4xhW, PHOTO:, EPA]  [10, 09]   \n",
      "2  http://str.sg/4xeY   [http://str.sg/4xeY, PHOTO:, EPA]  [10, 09]   \n",
      "3  http://str.sg/4xef   [http://str.sg/4xef, PHOTO:, AFP]  [10, 09]   \n",
      "4  http://str.sg/4xeN   [http://str.sg/4xeN, PHOTO:, AFP]  [10, 09]   \n",
      "\n",
      "         Date      Open      High       Low     Close Adj Close  Volume Change  \n",
      "0  2016-10-09  2.930000  2.930000  2.920000  2.930000    2.8396  141900      0  \n",
      "1  2016-10-09  2.930000  2.930000  2.920000  2.930000    2.8396  141900      0  \n",
      "2  2016-10-09  2.930000  2.930000  2.920000  2.930000    2.8396  141900      0  \n",
      "3  2016-10-09  2.930000  2.930000  2.920000  2.930000    2.8396  141900      0  \n",
      "4  2016-10-09  2.930000  2.930000  2.920000  2.930000    2.8396  141900      0  \n"
     ]
    }
   ],
   "source": [
    "# scraped data file\n",
    "data = np.load('file.npy')\n",
    "data = pd.DataFrame(data,columns=['year', 'date', 'time', 'data', 'site', 'site2', 'date2', 'Date', 'Open', 'High', 'Low', 'Close', 'Adj Close', 'Volume','Change']) \n",
    "print data.head()"
   ]
  },
  {
   "cell_type": "code",
   "execution_count": 5,
   "metadata": {
    "collapsed": false,
    "deletable": true,
    "editable": true
   },
   "outputs": [
    {
     "name": "stdout",
     "output_type": "stream",
     "text": [
      "   year       date   time                                               data  \\\n",
      "0  2016  oct_9.txt  06:23  Table Tennis: Feng Tianwei upset by Japanese t...   \n",
      "1  2016  oct_9.txt  06:00  Football: Immobile brings Italy back from the ...   \n",
      "2  2016  oct_9.txt  04:39  Football: Napoli striker Milik out for â€˜mont...   \n",
      "3  2016  oct_9.txt  04:23  Thousands of armed Yemeni protesters call for ...   \n",
      "4  2016  oct_9.txt  04:05  Football: Wales drop World Cup points in Georg...   \n",
      "\n",
      "                 site                               site2     date2  \\\n",
      "0  http://str.sg/4xhn  [http://str.sg/4xhn, PHOTO:, ITTF]  [10, 09]   \n",
      "1  http://str.sg/4xhW   [http://str.sg/4xhW, PHOTO:, EPA]  [10, 09]   \n",
      "2  http://str.sg/4xeY   [http://str.sg/4xeY, PHOTO:, EPA]  [10, 09]   \n",
      "3  http://str.sg/4xef   [http://str.sg/4xef, PHOTO:, AFP]  [10, 09]   \n",
      "4  http://str.sg/4xeN   [http://str.sg/4xeN, PHOTO:, AFP]  [10, 09]   \n",
      "\n",
      "         Date      Open      High       Low     Close Adj Close  Volume  \\\n",
      "0  2016-10-09  2.930000  2.930000  2.920000  2.930000    2.8396  141900   \n",
      "1  2016-10-09  2.930000  2.930000  2.920000  2.930000    2.8396  141900   \n",
      "2  2016-10-09  2.930000  2.930000  2.920000  2.930000    2.8396  141900   \n",
      "3  2016-10-09  2.930000  2.930000  2.920000  2.930000    2.8396  141900   \n",
      "4  2016-10-09  2.930000  2.930000  2.920000  2.930000    2.8396  141900   \n",
      "\n",
      "  Change                                         data_clean  \\\n",
      "0      0  Table Tennis: Feng Tianwei upset by Japanese t...   \n",
      "1      0  Football: Immobile brings Italy back from the ...   \n",
      "2      0  Football: Napoli striker Milik out for months ...   \n",
      "3      0  Thousands of armed Yemeni protesters call for ...   \n",
      "4      0  Football: Wales drop World Cup points in Georg...   \n",
      "\n",
      "                                      data_clean_tok  \n",
      "0  [Table, Tennis, :, Feng, Tianwei, upset, by, J...  \n",
      "1  [Football, :, Immobile, brings, Italy, back, f...  \n",
      "2  [Football, :, Napoli, striker, Milik, out, for...  \n",
      "3  [Thousands, of, armed, Yemeni, protesters, cal...  \n",
      "4  [Football, :, Wales, drop, World, Cup, points,...  \n"
     ]
    }
   ],
   "source": [
    "sentence_splitter = nltk.data.load('tokenizers/punkt/english.pickle')\n",
    "import string\n",
    "printable = set(string.printable)\n",
    "def remove_nonprintable(s):\n",
    "    if s is None:\n",
    "        return None\n",
    "    return filter(lambda x: x in printable, s)\n",
    "from nltk.tokenize import TreebankWordTokenizer\n",
    "data['data_clean'] = data['data'].apply(remove_nonprintable) \n",
    "def tokenizer(s):\n",
    "    if s is None:\n",
    "        return None\n",
    "    return TreebankWordTokenizer().tokenize(s)\n",
    "data['data_clean_tok'] = data['data_clean'].apply(tokenizer)\n",
    "data = data[~data['data_clean'].isin([None,])] # remove empty data\n",
    "print data.head()"
   ]
  },
  {
   "cell_type": "code",
   "execution_count": 6,
   "metadata": {
    "collapsed": false,
    "deletable": true,
    "editable": true
   },
   "outputs": [
    {
     "name": "stdout",
     "output_type": "stream",
     "text": [
      "GloVE available locally\n"
     ]
    },
    {
     "data": {
      "text/plain": [
       "(100000, 50)"
      ]
     },
     "execution_count": 6,
     "metadata": {},
     "output_type": "execute_result"
    }
   ],
   "source": [
    "import sys\n",
    "sys.path.append('/media/leexa/97ba6a6b-3f4d-4528-84ca-50200ba4594f/Dropbox/dl_dev_course/deep-learning-workshop/notebooks/5-RNN/glove-python')\n",
    "import glove\n",
    "glove_dir = '../week5/data/RNN/'\n",
    "glove_100k_50d = 'glove.first-100k.6B.50d.txt'\n",
    "glove_100k_50d_path = os.path.join(glove_dir, glove_100k_50d)\n",
    "if not os.path.isfile( glove_100k_50d_path ):\n",
    "    raise RuntimeError(\"You need to download GloVE Embeddings \"+\n",
    "                       \": Use the downloader in 5-Text-Corpus-and-Embeddings.ipynb\")\n",
    "else:\n",
    "    print(\"GloVE available locally\")\n",
    "word_embedding = glove.Glove.load_stanford( glove_100k_50d_path )\n",
    "word_embedding.word_vectors.shape"
   ]
  },
  {
   "cell_type": "code",
   "execution_count": 7,
   "metadata": {
    "collapsed": true,
    "deletable": true,
    "editable": true
   },
   "outputs": [],
   "source": [
    "def word_idx_rnn(list):\n",
    "    if list is None:\n",
    "        return None\n",
    "    return map(lambda word : 2+word_embedding.dictionary.get(word.lower(),-1),list) #0 for mask 1 for unknown\n",
    "\n",
    "word_embedding_rnn = np.vstack([ \n",
    "        np.zeros( (1, EMBEDDING_DIM,), dtype='float32'),   # This is the 'zero' value (used as a mask in Keras)\n",
    "        np.zeros( (1, EMBEDDING_DIM,), dtype='float32'),   # This is for 'UNK'  (word == 1)\n",
    "        word_embedding.word_vectors,\n",
    "    ])\n",
    "word_embedding_rnn.shape\n",
    "\n",
    "data['wordVec'] =  map(word_idx_rnn, data['data_clean_tok'].iloc[:])\n",
    "data = data[data['wordVec'].apply(len) <= SENTENCE_LENGTH_MAX].reset_index(drop=1) #remove too long sentences\n",
    "\n",
    "  \n",
    "from tensorflow.contrib.keras.python.keras.utils.np_utils import to_categorical\n",
    "tokens_input = Input(shape=(SENTENCE_LENGTH_MAX,), dtype='int32', name=\"input\")"
   ]
  },
  {
   "cell_type": "markdown",
   "metadata": {
    "deletable": true,
    "editable": true
   },
   "source": [
    "# I want to predict if the word died appeared in the article. I will remove words simillar to died and see how well it predicts article containing the family of death words"
   ]
  },
  {
   "cell_type": "code",
   "execution_count": 8,
   "metadata": {
    "collapsed": false,
    "deletable": true,
    "editable": true
   },
   "outputs": [
    {
     "name": "stdout",
     "output_type": "stream",
     "text": [
      "die [(u'dying', 0.7532194581558449), (u'sick', 0.7226143991997882), (u'hell', 0.68722961740698885), (u'afraid', 0.66896493375593569)]\n",
      "dies [(u'survivor', 0.72395499399488616), (u'death', 0.70635122168423004), (u'woman', 0.69851214642219261), (u'man', 0.69419063348250476)]\n",
      "death [(u'died', 0.83436411860470117), (u'survived', 0.81930822459038455), (u'victim', 0.81331859168020448), (u'murder', 0.78237136226895088)]\n",
      "dying [(u'sick', 0.87161598985772837), (u'lives', 0.80157808860610347), (u'alive', 0.79256668671224972), (u'survived', 0.78591367005364876)]\n",
      "died [(u'survived', 0.85628412253407293), (u'death', 0.83436411860470117), (u'killed', 0.78069928681101475), (u'lived', 0.76491050849669973)]\n",
      "dead [(u'killed', 0.90340339672624048), (u'killing', 0.83342776424268306), (u'missing', 0.82908148537859538), (u'wounded', 0.82695542086841967)]\n"
     ]
    }
   ],
   "source": [
    "for i in [2359,5378,338,5251,433,769]:\n",
    "    i = word_embedding.inverse_dictionary.get(i-2)\n",
    "    print i,word_embedding.most_similar(i) \n",
    "# it looks very different"
   ]
  },
  {
   "cell_type": "code",
   "execution_count": 9,
   "metadata": {
    "collapsed": false,
    "deletable": true,
    "editable": true
   },
   "outputs": [
    {
     "name": "stdout",
     "output_type": "stream",
     "text": [
      "2357\n",
      "5376\n",
      "336\n",
      "5249\n",
      "431\n",
      "767\n"
     ]
    }
   ],
   "source": [
    "print word_embedding.dictionary.get('die')\n",
    "print word_embedding.dictionary.get('dies')\n",
    "print word_embedding.dictionary.get('death')\n",
    "print word_embedding.dictionary.get('dying')\n",
    "print word_embedding.dictionary.get('died')\n",
    "print word_embedding.dictionary.get('dead')"
   ]
  },
  {
   "cell_type": "code",
   "execution_count": 10,
   "metadata": {
    "collapsed": false,
    "deletable": true,
    "editable": true
   },
   "outputs": [
    {
     "name": "stdout",
     "output_type": "stream",
     "text": [
      "confirming 769 is the word dead\n",
      "data_clean_tok    [UPDATE:82, dead, ,, 534, injured, in, Saudi-l...\n",
      "wordVec           [1, 769, 3, 44573, 1004, 8, 1, 15641, 15, 5404...\n",
      "Name: 26, dtype: object\n"
     ]
    }
   ],
   "source": [
    "### I want to predict if someone died in the ar\n",
    "ids = []\n",
    "for i in range(len(data)):\n",
    "    for j in [2359,5378,338,5251,433,769]:\n",
    "        if j in data.iloc[i]['wordVec']:\n",
    "            ids += [i,]\n",
    "print 'confirming 769 is the word dead'  # actually its 767 but 767+2=769 because of keras mask and UNK\n",
    "print data.iloc[26][['data_clean_tok','wordVec']]"
   ]
  },
  {
   "cell_type": "code",
   "execution_count": 11,
   "metadata": {
    "collapsed": false,
    "deletable": true,
    "editable": true
   },
   "outputs": [
    {
     "name": "stdout",
     "output_type": "stream",
     "text": [
      "number of death articles\n",
      "0.0591584941474\n"
     ]
    }
   ],
   "source": [
    "# function to remove 769 and other death words\n",
    "def remove769(x):\n",
    "    result = []\n",
    "    for i in x:\n",
    "        if i != 769:\n",
    "            result += [i,] \n",
    "    return result\n",
    "data['wordVec2'] = data['wordVec'].apply(remove769)\n",
    "# pad sequences to length 32\n",
    "data['wordVec2'] = map(lambda x :x + (SENTENCE_LENGTH_MAX - len(x)) * [0,],data['wordVec2'])\n",
    "data['died'] = 0\n",
    "data= data.set_value(ids,'died',1)\n",
    "print 'number of death articles'\n",
    "print np.mean(data.died)"
   ]
  },
  {
   "cell_type": "code",
   "execution_count": 12,
   "metadata": {
    "collapsed": false,
    "deletable": true,
    "editable": true
   },
   "outputs": [
    {
     "data": {
      "text/plain": [
       "data_clean        UPDATE:82 dead, 534 injured in Saudi-led airst...\n",
       "data_clean_tok    [UPDATE:82, dead, ,, 534, injured, in, Saudi-l...\n",
       "wordVec           [1, 769, 3, 44573, 1004, 8, 1, 15641, 15, 5404...\n",
       "wordVec2          [1, 3, 44573, 1004, 8, 1, 15641, 15, 5404, 124...\n",
       "died                                                              1\n",
       "Name: 26, dtype: object"
      ]
     },
     "execution_count": 12,
     "metadata": {},
     "output_type": "execute_result"
    }
   ],
   "source": [
    "#view data\n",
    "data.iloc[26][[u'data_clean', u'data_clean_tok', u'wordVec', u'wordVec2',u'died']]"
   ]
  },
  {
   "cell_type": "code",
   "execution_count": 13,
   "metadata": {
    "collapsed": false,
    "deletable": true,
    "editable": true
   },
   "outputs": [
    {
     "data": {
      "text/plain": [
       "data_clean        Erdogan takes spin in first-ever road tunnel l...\n",
       "data_clean_tok    [Erdogan, takes, spin, in, first-ever, road, t...\n",
       "wordVec           [9347, 1146, 6027, 8, 30087, 588, 4518, 6409, ...\n",
       "wordVec2          [9347, 1146, 6027, 8, 30087, 588, 4518, 6409, ...\n",
       "died                                                              0\n",
       "Name: 27, dtype: object"
      ]
     },
     "execution_count": 13,
     "metadata": {},
     "output_type": "execute_result"
    }
   ],
   "source": [
    "# view data\n",
    "data.iloc[27][[u'data_clean', u'data_clean_tok', u'wordVec', u'wordVec2',u'died']]"
   ]
  },
  {
   "cell_type": "code",
   "execution_count": 14,
   "metadata": {
    "collapsed": false,
    "deletable": true,
    "editable": true
   },
   "outputs": [
    {
     "name": "stdout",
     "output_type": "stream",
     "text": [
      "_________________________________________________________________\n",
      "Layer (type)                 Output Shape              Param #   \n",
      "=================================================================\n",
      "input (InputLayer)           (None, 80)                0         \n",
      "_________________________________________________________________\n",
      "SentencesEmbedded (Embedding (None, 80, 50)            5000100   \n",
      "_________________________________________________________________\n",
      "masked (Masking)             (None, 80, 50)            0         \n",
      "_________________________________________________________________\n",
      "bidirectional_1 (Bidirection (None, 130)               45240     \n",
      "_________________________________________________________________\n",
      "drop (Dropout)               (None, 130)               0         \n",
      "_________________________________________________________________\n",
      "out (Dense)                  (None, 1)                 131       \n",
      "=================================================================\n",
      "Total params: 5,045,471\n",
      "Trainable params: 45,371\n",
      "Non-trainable params: 5,000,100\n",
      "_________________________________________________________________\n"
     ]
    }
   ],
   "source": [
    "tokens_input = Input(shape=(SENTENCE_LENGTH_MAX,), dtype='int32', name=\"input\")\n",
    "embedded_sequences = Embedding(word_embedding_rnn.shape[0],\n",
    "                                EMBEDDING_DIM,\n",
    "                                weights=[ word_embedding_rnn ],\n",
    "                                input_length=SENTENCE_LENGTH_MAX,\n",
    "                                trainable=False, \n",
    "                                mask_zero=True,\n",
    "                                name=\"SentencesEmbedded\") (tokens_input)\n",
    "aggregate_vectors = embedded_sequences # concat...\n",
    "TAG_SET_SIZE = 1\n",
    "BATCH_SIZE = 32\n",
    "RNN_HIDDEN_SIZE = 65\n",
    "masked = keras.layers.Masking(mask_value=0.0,name='masked') (aggregate_vectors)\n",
    "rnn_outputs = Bidirectional( GRU(RNN_HIDDEN_SIZE, return_sequences=False),  merge_mode='concat' )(masked)\n",
    "rnn_outputs2 = keras.layers.Dropout(0.5,name='drop')(rnn_outputs)\n",
    "is_ner_outputs = Dense(1, activation='sigmoid',name='out')(rnn_outputs2)\n",
    "model = Model(inputs=[tokens_input], outputs=[is_ner_outputs])\n",
    "model.summary()"
   ]
  },
  {
   "cell_type": "code",
   "execution_count": 15,
   "metadata": {
    "collapsed": false,
    "deletable": true,
    "editable": true
   },
   "outputs": [
    {
     "name": "stderr",
     "output_type": "stream",
     "text": [
      "Using TensorFlow backend.\n"
     ]
    }
   ],
   "source": [
    "import keras.backend as K\n",
    "#https://stackoverflow.com/questions/39895742/matthews-correlation-coefficient-with-keras\n",
    "def MCC(y_true, y_pred): #balanced metric\n",
    "    y_pred_pos = K.greater_equal(y_pred, 0.5)\n",
    "    y_pred_pos = K.cast(y_pred_pos,K.tf.float32)\n",
    "    y_pred_neg = 1 - y_pred_pos\n",
    "    \n",
    "    y_pos = K.greater_equal(y_true, 0.5)\n",
    "    y_pos = K.cast(y_pos,K.tf.float32)\n",
    "    y_neg = 1 - y_pos\n",
    "\n",
    "    tp = K.sum(y_pos * y_pred_pos)\n",
    "    tn = K.sum(y_neg * y_pred_neg)\n",
    "\n",
    "    fp = K.sum(y_neg * y_pred_pos)\n",
    "    fn = K.sum(y_pos * y_pred_neg)\n",
    "\n",
    "    numerator = (tp * tn - fp * fn)\n",
    "    denominator = K.sqrt((tp + fp) * (tp + fn) * (tn + fp) * (tn + fn))\n",
    "\n",
    "    return numerator / (denominator + K.epsilon())\n",
    "model.compile(loss='binary_crossentropy', optimizer=\"adam\" , metrics=['accuracy',MCC])"
   ]
  },
  {
   "cell_type": "code",
   "execution_count": 16,
   "metadata": {
    "collapsed": true,
    "deletable": true,
    "editable": true
   },
   "outputs": [],
   "source": [
    "X = np.stack(map(np.array,data.wordVec2))\n",
    "y = np.array(data.died.astype(np.int32))\n",
    "from sklearn.model_selection import train_test_split\n",
    "X_train,X_test,y_train,y_test = train_test_split(X,y,test_size = 0.4, random_state = 5)\n",
    "X_val,X_test,y_val,y_test = train_test_split(X_test,y_test,test_size = 0.5, random_state = 5)"
   ]
  },
  {
   "cell_type": "code",
   "execution_count": 17,
   "metadata": {
    "collapsed": false,
    "deletable": true,
    "editable": true
   },
   "outputs": [
    {
     "name": "stdout",
     "output_type": "stream",
     "text": [
      "Train on 3793 samples, validate on 1264 samples\n",
      "Epoch 1/40\n",
      "11s - loss: 1.1273 - acc: 0.6641 - MCC: 0.1437 - val_loss: 0.5906 - val_acc: 0.7009 - val_MCC: 0.2402\n",
      "Epoch 2/40\n",
      "11s - loss: 0.8607 - acc: 0.7785 - MCC: 0.2640 - val_loss: 0.4936 - val_acc: 0.7658 - val_MCC: 0.2635\n",
      "Epoch 3/40\n",
      "11s - loss: 0.6991 - acc: 0.8276 - MCC: 0.3352 - val_loss: 0.5326 - val_acc: 0.7682 - val_MCC: 0.3238\n",
      "Epoch 4/40\n",
      "11s - loss: 0.6181 - acc: 0.8537 - MCC: 0.4003 - val_loss: 0.2805 - val_acc: 0.8837 - val_MCC: 0.4132\n",
      "Epoch 5/40\n",
      "10s - loss: 0.5161 - acc: 0.8914 - MCC: 0.4602 - val_loss: 0.4032 - val_acc: 0.8370 - val_MCC: 0.3857\n",
      "Epoch 6/40\n",
      "11s - loss: 0.4568 - acc: 0.8969 - MCC: 0.4950 - val_loss: 0.4320 - val_acc: 0.8441 - val_MCC: 0.3907\n",
      "Epoch 7/40\n",
      "11s - loss: 0.4096 - acc: 0.9025 - MCC: 0.4962 - val_loss: 0.2301 - val_acc: 0.9090 - val_MCC: 0.4632\n",
      "Epoch 8/40\n",
      "11s - loss: 0.3647 - acc: 0.9170 - MCC: 0.5353 - val_loss: 0.2095 - val_acc: 0.9122 - val_MCC: 0.4771\n",
      "Epoch 9/40\n",
      "11s - loss: 0.2742 - acc: 0.9375 - MCC: 0.6074 - val_loss: 0.1529 - val_acc: 0.9446 - val_MCC: 0.5458\n",
      "Epoch 10/40\n",
      "11s - loss: 0.2210 - acc: 0.9457 - MCC: 0.6268 - val_loss: 0.1396 - val_acc: 0.9509 - val_MCC: 0.5574\n",
      "Epoch 11/40\n",
      "11s - loss: 0.1746 - acc: 0.9586 - MCC: 0.6327 - val_loss: 0.1590 - val_acc: 0.9478 - val_MCC: 0.5525\n",
      "Epoch 12/40\n",
      "10s - loss: 0.1585 - acc: 0.9631 - MCC: 0.6584 - val_loss: 0.2021 - val_acc: 0.9312 - val_MCC: 0.5172\n",
      "Epoch 13/40\n",
      "11s - loss: 0.2950 - acc: 0.9257 - MCC: 0.5807 - val_loss: 0.2138 - val_acc: 0.9051 - val_MCC: 0.4646\n",
      "Epoch 14/40\n",
      "11s - loss: 0.1679 - acc: 0.9612 - MCC: 0.6643 - val_loss: 0.1787 - val_acc: 0.9288 - val_MCC: 0.5305\n",
      "Epoch 15/40\n",
      "10s - loss: 0.1148 - acc: 0.9734 - MCC: 0.7167 - val_loss: 0.1159 - val_acc: 0.9644 - val_MCC: 0.6497\n",
      "Epoch 16/40\n",
      "11s - loss: 0.0826 - acc: 0.9826 - MCC: 0.7169 - val_loss: 0.1557 - val_acc: 0.9517 - val_MCC: 0.5846\n",
      "Epoch 17/40\n",
      "11s - loss: 0.0592 - acc: 0.9858 - MCC: 0.7705 - val_loss: 0.1856 - val_acc: 0.9391 - val_MCC: 0.5666\n",
      "Epoch 18/40\n",
      "11s - loss: 0.0440 - acc: 0.9905 - MCC: 0.7983 - val_loss: 0.1202 - val_acc: 0.9676 - val_MCC: 0.6225\n",
      "Epoch 19/40\n",
      "11s - loss: 0.0390 - acc: 0.9913 - MCC: 0.8140 - val_loss: 0.1195 - val_acc: 0.9707 - val_MCC: 0.6448\n",
      "Epoch 20/40\n",
      "11s - loss: 0.0336 - acc: 0.9939 - MCC: 0.8291 - val_loss: 0.1725 - val_acc: 0.9486 - val_MCC: 0.5766\n",
      "Epoch 21/40\n",
      "11s - loss: 0.0195 - acc: 0.9976 - MCC: 0.8601 - val_loss: 0.1470 - val_acc: 0.9652 - val_MCC: 0.6525\n",
      "Epoch 22/40\n",
      "11s - loss: 0.0176 - acc: 0.9968 - MCC: 0.8700 - val_loss: 0.1533 - val_acc: 0.9660 - val_MCC: 0.6362\n",
      "Epoch 23/40\n",
      "11s - loss: 0.0246 - acc: 0.9958 - MCC: 0.8375 - val_loss: 0.2054 - val_acc: 0.9446 - val_MCC: 0.5827\n",
      "Epoch 24/40\n",
      "10s - loss: 0.0363 - acc: 0.9939 - MCC: 0.8396 - val_loss: 0.1342 - val_acc: 0.9715 - val_MCC: 0.6642\n",
      "Epoch 25/40\n",
      "11s - loss: 0.0137 - acc: 0.9982 - MCC: 0.8549 - val_loss: 0.1589 - val_acc: 0.9612 - val_MCC: 0.6320\n",
      "Epoch 26/40\n",
      "11s - loss: 0.0083 - acc: 0.9984 - MCC: 0.8058 - val_loss: 0.1390 - val_acc: 0.9723 - val_MCC: 0.6699\n",
      "Epoch 27/40\n",
      "11s - loss: 0.0059 - acc: 0.9989 - MCC: 0.8395 - val_loss: 0.1591 - val_acc: 0.9660 - val_MCC: 0.6448\n",
      "Epoch 28/40\n",
      "11s - loss: 0.0052 - acc: 0.9992 - MCC: 0.8708 - val_loss: 0.1498 - val_acc: 0.9707 - val_MCC: 0.6684\n",
      "Epoch 29/40\n",
      "11s - loss: 0.0038 - acc: 0.9997 - MCC: 0.8664 - val_loss: 0.1473 - val_acc: 0.9739 - val_MCC: 0.6744\n",
      "Epoch 30/40\n",
      "11s - loss: 0.0053 - acc: 0.9995 - MCC: 0.8757 - val_loss: 0.1419 - val_acc: 0.9747 - val_MCC: 0.6523\n",
      "Epoch 31/40\n",
      "11s - loss: 0.0046 - acc: 0.9995 - MCC: 0.8072 - val_loss: 0.1501 - val_acc: 0.9731 - val_MCC: 0.6719\n",
      "Epoch 32/40\n",
      "10s - loss: 0.0033 - acc: 1.0000 - MCC: 0.8397 - val_loss: 0.1520 - val_acc: 0.9763 - val_MCC: 0.6616\n",
      "Epoch 33/40\n",
      "10s - loss: 0.0450 - acc: 0.9897 - MCC: 0.8240 - val_loss: 0.1374 - val_acc: 0.9684 - val_MCC: 0.6368\n",
      "Epoch 34/40\n",
      "10s - loss: 0.0170 - acc: 0.9974 - MCC: 0.7875 - val_loss: 0.1466 - val_acc: 0.9715 - val_MCC: 0.6609\n",
      "Epoch 35/40\n",
      "10s - loss: 0.0057 - acc: 0.9995 - MCC: 0.8696 - val_loss: 0.1529 - val_acc: 0.9715 - val_MCC: 0.6577\n",
      "Epoch 36/40\n",
      "10s - loss: 0.0041 - acc: 0.9992 - MCC: 0.8507 - val_loss: 0.1594 - val_acc: 0.9699 - val_MCC: 0.6532\n",
      "Epoch 37/40\n",
      "10s - loss: 0.0032 - acc: 0.9997 - MCC: 0.8819 - val_loss: 0.1535 - val_acc: 0.9755 - val_MCC: 0.6778\n",
      "Epoch 38/40\n",
      "10s - loss: 0.0024 - acc: 1.0000 - MCC: 0.7975 - val_loss: 0.1612 - val_acc: 0.9739 - val_MCC: 0.6747\n",
      "Epoch 39/40\n",
      "10s - loss: 0.0021 - acc: 1.0000 - MCC: 0.8481 - val_loss: 0.1652 - val_acc: 0.9739 - val_MCC: 0.6728\n",
      "Epoch 40/40\n",
      "10s - loss: 0.0011 - acc: 1.0000 - MCC: 0.8352 - val_loss: 0.1669 - val_acc: 0.9739 - val_MCC: 0.6704\n"
     ]
    }
   ],
   "source": [
    "class_weight = {0 : 1.,\n",
    "                1: 15.7,} # class ratios are 15.7 : 1, helps objective function to be balanced\n",
    "epochs = 40\n",
    "history  = model.fit(x=X_train,y=y_train,\n",
    "                     epochs = epochs,verbose = 2,\n",
    "                     batch_size = 32,\n",
    "                     validation_data = (X_val,y_val),\n",
    "                     class_weight = class_weight)"
   ]
  },
  {
   "cell_type": "code",
   "execution_count": 23,
   "metadata": {
    "collapsed": false,
    "deletable": true,
    "editable": true
   },
   "outputs": [
    {
     "data": {
      "image/png": "[encoded data removed]",
      "text/plain": [
       "<matplotlib.figure.Figure at 0x7fcd5f222ad0>"
      ]
     },
     "metadata": {},
     "output_type": "display_data"
    }
   ],
   "source": [
    "import matplotlib.pyplot as plt\n",
    "plt.plot(range(epochs),history.history['MCC'])\n",
    "plt.plot(range(epochs),history.history['val_MCC'])\n",
    "plt.show()"
   ]
  },
  {
   "cell_type": "code",
   "execution_count": 19,
   "metadata": {
    "collapsed": false,
    "deletable": true,
    "editable": true
   },
   "outputs": [
    {
     "data": {
      "image/png": "[encoded data removed]",
      "text/plain": [
       "<matplotlib.figure.Figure at 0x7fcd5f2f0a10>"
      ]
     },
     "metadata": {},
     "output_type": "display_data"
    }
   ],
   "source": [
    "plt.plot(range(epochs),map(np.log10,history.history['loss']))\n",
    "plt.plot(range(epochs),map(np.log10,history.history['val_loss']))\n",
    "plt.show()"
   ]
  },
  {
   "cell_type": "code",
   "execution_count": 26,
   "metadata": {
    "collapsed": false,
    "deletable": true,
    "editable": true
   },
   "outputs": [
    {
     "name": "stdout",
     "output_type": "stream",
     "text": [
      "Train on 3793 samples, validate on 1264 samples\n",
      "Epoch 1/1\n",
      "10s - loss: 0.0016 - acc: 1.0000 - MCC: 0.8650 - val_loss: 0.1745 - val_acc: 0.9684 - val_MCC: 0.6474\n",
      "Train on 3793 samples, validate on 1264 samples\n",
      "Epoch 1/1\n",
      "11s - loss: 0.0011 - acc: 1.0000 - MCC: 0.8566 - val_loss: 0.1691 - val_acc: 0.9747 - val_MCC: 0.6735\n",
      "Train on 3793 samples, validate on 1264 samples\n",
      "Epoch 1/1\n",
      "10s - loss: 0.0016 - acc: 1.0000 - MCC: 0.7975 - val_loss: 0.1762 - val_acc: 0.9699 - val_MCC: 0.6607\n",
      "Train on 3793 samples, validate on 1264 samples\n",
      "Epoch 1/1\n",
      "11s - loss: 7.7588e-04 - acc: 1.0000 - MCC: 0.8313 - val_loss: 0.1767 - val_acc: 0.9715 - val_MCC: 0.6657\n",
      "Train on 3793 samples, validate on 1264 samples\n",
      "Epoch 1/1\n",
      "11s - loss: 0.0011 - acc: 1.0000 - MCC: 0.8060 - val_loss: 0.1757 - val_acc: 0.9731 - val_MCC: 0.6660\n"
     ]
    }
   ],
   "source": [
    "y_pred_test = np.zeros(shape=(len(y_test),1))\n",
    "y_pred_val = np.zeros(shape=(len(y_val),1))\n",
    "for i in range(0,5):\n",
    "    model.fit(x=X_train,y=y_train,\n",
    "                         epochs = 1,verbose = 2,\n",
    "                         batch_size = 32,\n",
    "                         validation_data = (X_val,y_val),\n",
    "                         class_weight = class_weight)\n",
    "    temp = model.predict(X_test)\n",
    "    y_pred_test = y_pred_test + temp/5\n",
    "    temp = model.predict(X_val)\n",
    "    y_pred_val = y_pred_val + temp/5"
   ]
  },
  {
   "cell_type": "code",
   "execution_count": 103,
   "metadata": {
    "collapsed": true,
    "deletable": true,
    "editable": true
   },
   "outputs": [],
   "source": [
    "def MCC_numpy(y_true, y_pred): #balanced metric\n",
    "    assert y_true.shape == y_pred.shape\n",
    "    y_pred_pos = 1*(y_pred > 0.5)\n",
    "    y_pred_neg = 1 - y_pred_pos\n",
    "\n",
    "    y_pos = 1*(y_true > 0.5)\n",
    "    y_neg = 1 - y_pos\n",
    "\n",
    "    tp = np.sum(y_pos * y_pred_pos)\n",
    "    tn = np.sum(y_neg * y_pred_neg)\n",
    "\n",
    "    fp = np.sum(y_neg * y_pred_pos)\n",
    "    fn = np.sum(y_pos * y_pred_neg)\n",
    "    #print tp , tn , fp ,fn\n",
    "    numerator = (tp * tn - fp * fn)\n",
    "    denominator = np.sqrt((tp + fp) * (tp + fn) * (tn + fp) * (tn + fn))\n",
    "    return numerator/denominator"
   ]
  },
  {
   "cell_type": "code",
   "execution_count": 104,
   "metadata": {
    "collapsed": false,
    "deletable": true,
    "editable": true
   },
   "outputs": [
    {
     "name": "stdout",
     "output_type": "stream",
     "text": [
      "0.773031874\n",
      "0.783212267958\n",
      "0.803784138898\n"
     ]
    }
   ],
   "source": [
    "from sklearn.metrics import matthews_corrcoef\n",
    "matthews_corrcoef = MCC_numpy\n",
    "print matthews_corrcoef(y_val,y_pred_val[:,0])\n",
    "print matthews_corrcoef(y_val,temp[:,0])\n",
    "print matthews_corrcoef(y_test,y_pred_test[:,0])\n",
    "# values are higher because MCC is not supposed to be used in batches but rather the whole dataset"
   ]
  },
  {
   "cell_type": "code",
   "execution_count": 105,
   "metadata": {
    "collapsed": false
   },
   "outputs": [
    {
     "data": {
      "text/plain": [
       "(26, 80)"
      ]
     },
     "execution_count": 105,
     "metadata": {},
     "output_type": "execute_result"
    }
   ],
   "source": [
    "# find the wrong answers\n",
    "wrong = X_test[(y_test != (y_pred_test[:,0]>0.5)*1)]\n",
    "wrong_y = y_test[(y_test != (y_pred_test[:,0]>0.5)*1)]\n",
    "wrong_pred = y_pred_test[(y_test != (y_pred_test[:,0]>0.5)*1)]\n",
    "wrong.shape"
   ]
  },
  {
   "cell_type": "code",
   "execution_count": 108,
   "metadata": {
    "collapsed": false
   },
   "outputs": [
    {
     "name": "stdout",
     "output_type": "stream",
     "text": [
      "Four killed in Greek tourist boat collisionFour people are killed when a speedboat slices into a wooden tourist vessel near a popular Greek holiday island. Among the dead are the tourist vessel's captain and a nine-year-old girl. 1 [ 0.02863721] \n",
      "\n",
      "Chile reburies Nobel-winning poet Pablo NerudaChile reburied Nobel prize-winning poet Pablo Neruda's remains Tuesday lingers.  0 [ 0.93628974] \n",
      "\n",
      "Four found dead in floods in France, GermanyHeavy rains lashing parts of France, Germany and Austria cut roads, stranded people on rooftops and forced schools to close their doors. 1 [ 0.0082646] \n",
      "\n",
      "Man nabbed in US shooting rampage was Uber driver who killed in between picking up faresA man arrested Sunday after a shooting rampage that left six people dead in the northern US state of Michigan was an Uber driver, the company said. 1 [ 0.00831027] \n",
      "\n",
      "Trump not laughing as paper targets 'brain dead' supportersTrump fired back on Twitter on Wednesday against the New York Daily News, after the tabloid published a photo of Trump edited to make him appear similar to \"The Joker,\" a clown-like villain from the Batman comic series. 1 [  4.70268340e-07] \n",
      "\n",
      "Five dead, about 30 injured in attack on UN peacekeepers in MaliAt least five United Nations peacekeepers were killed and some 30 othersKi-moon said on Friday (Feb 12).  1 [ 0.0186671] \n",
      "\n",
      "Two bombs in Manhattan were obvious 'act of terror', says New York GovernorA bomb that exploded in New York thatwounded 29 people and a second bomb that did not detonateplanted nearby were\"obviously an act of terrorism\", New York state Governor Andrew Cuomo told reporters today, but he said there was no evidence of international involvement. 0 [ 0.71726112] \n",
      "\n",
      "At least 13 killed, 31 injured in California tour bus crashA tour bus crashed into the back of a tractor-trailer on a Southern people and injuring 31, authorities said.  0 [ 0.81774038] \n",
      "\n",
      "Maldives foreign minister rejects Amal Clooney's criticism as 'stories'Maldives Foreign Minister Dunya Maumoon on Monday rejected international human rights lawyer Amal Clooney's criticism that democracy was \"dead\" in the Indian Ocean island. 1 [  1.93058204e-05] \n",
      "\n",
      "Famed conductor Kurt Masur dead: New York PhilharmonicConductor Kurt Masur, who helped bring a worldwide reputation to the New York Philharmonic while seizing on the power of music on key moments of history, has died. He was 88. 1 [ 0.00164224] \n",
      "\n",
      "Nine people shot, one dead at Florida's Fort Lauderdale airportNine people were shot, including one fatally, and a suspect was in law enforcement sources.  1 [ 0.30994825] \n",
      "\n",
      "Explosions in Afghan capital Kabul kill at least 24A loud explosion hit the centre of Kabul late on Monday, hours after a Taliban suicide attack near the Defence Ministry killed at least 24 people, including a number of senior security officials, and wounded 91 others, officials said. 0 [ 0.98983186] \n",
      "\n",
      "At least 11 dead, 19 injured in air raid on Yemen hospital, says MSFAt least 11 people were killed and more than 19 injured Monday in an airstrike on a hospital in northwestern Yemen, Doctors Without Borders (MSF) said in a statement. 1 [ 0.00333315] \n",
      "\n",
      "Man in China slaughtered 19 after family argument: PoliceThe suspect, named Yang Qingpei, confessed to murdering his parents after returning to his hometown village of Yema in Chinas mountainous Yunnan Province and asking them for money. He then killed 17 neighbours, including children, to prevent them from discovering and reporting the murders.  0 [ 0.70664389] \n",
      "\n",
      "Troublemakers spark panic at Seville's Good Friday eventTroublemakers sparked panic at Seville's nighttime Good Friday processions, famed for their religious floats, hooded penitents and crowds of spectators, seriously injuring one person.  0 [ 0.96084969] \n",
      "\n",
      "Italy mourns quake dead as hope for survivors wanesThe first funerals for victims of the devastating earthquake that hit central Italy this week are held as the country prepares for an emotionally charged day of mourning.  1 [ 0.00016435] \n",
      "\n",
      "Former US candidate Tim Kaine's son arrested at anti-Trump protestThe son of former vice-presidential candidate US Senator Tim Kaine was arrested last week during a protest against President Donald Trump in Minnesota after a scuffle with law enforcement, police said. 0 [ 0.95617294] \n",
      "\n",
      "Mass protests force Romania to scrap decree decriminalising graftRomania's prime minister said he was scrapping a decree that would have shielded dozens of politicians from prosecution for corruption, bowing to one of the biggest protests since the fall of dictator Nicolae Ceausescu in 1989. 0 [ 0.99827388] \n",
      "\n",
      "French producer Luc Besson plagiarised action classic Escape From New York, court rulesFrench filmmaker Luc Besson has been ordered to pay Hollywood's self-styled \"Master of Horror\" John Carpenter nearly half a million dollars for plagiarising his classic 1981 movie Escape From New York.  0 [ 0.55633473] \n",
      "\n",
      "US takes 1st gold in Bocuse d'Or cooking showdownAn American team led by Mathew Peters, sous chef at the acclaimed New coveted cooking competition.  0 [ 0.87544128] \n",
      "\n"
     ]
    }
   ],
   "source": [
    "for i,j,k in zip( wrong,wrong_y,wrong_pred)[0:20]:\n",
    "    id_wrong = np.argmax(np.sum(np.array([data['wordVec2']]) == list(i),(0,2)))\n",
    "    # print text, label, prediction\n",
    "    print data.iloc[id_wrong]['data_clean'],j,k,'\\n'"
   ]
  },
  {
   "cell_type": "markdown",
   "metadata": {},
   "source": [
    "# CORECT predictions "
   ]
  },
  {
   "cell_type": "code",
   "execution_count": 109,
   "metadata": {
    "collapsed": false
   },
   "outputs": [
    {
     "data": {
      "text/plain": [
       "(1239, 80)"
      ]
     },
     "execution_count": 109,
     "metadata": {},
     "output_type": "execute_result"
    }
   ],
   "source": [
    "# find the wrong answers\n",
    "wrong = X_test[(y_test == (y_pred_test[:,0]>0.5)*1)]\n",
    "wrong_y = y_test[(y_test == (y_pred_test[:,0]>0.5)*1)]\n",
    "wrong_pred = y_pred_test[(y_test == (y_pred_test[:,0]>0.5)*1)]\n",
    "wrong.shape"
   ]
  },
  {
   "cell_type": "code",
   "execution_count": 110,
   "metadata": {
    "collapsed": false
   },
   "outputs": [
    {
     "name": "stdout",
     "output_type": "stream",
     "text": [
      "Twilight's Kristen Stewart tells Elle UK she's 'really in love with my girlfriend'American actress Kristen Stewart, who played the girlfriend of Robert Pattinson in the Twilight movie series and subsequently in real life, is for the first time speaking publicly of her current love interest - another woman. 0 [  1.42453298e-05] \n",
      "\n",
      "Football: Arsenal humiliated 4-0 by SouthamptonArsenal's Premier League title ambitions are dealt a painful blow as they are not so much beaten as humiliated 4-0 by a Shane Long-inspired Southampton. 0 [  2.35184356e-07] \n",
      "\n",
      "US President Barack Obama may expand background checks on gun sales - news reportsUS President Barack Obama is expected to announce executive action expanding background checks on gun sales, media outlets reported on Thursday, citing people familiar with White House proposals and planning. 0 [  2.35229646e-07] \n",
      "\n",
      "More than 3,300 migrants rescued off LibyaA total of 3,324 migrants were rescued off Libya on Sunday (June 26) in than 10,000 the total saved since Thursday.  0 [  3.03697934e-06] \n",
      "\n",
      "Sweet potatoes that turn green are safe to consume: AVA seeks to corrects viral messageThis is in response to a widely circulated message that said the root vegetables imported from Vietnam are toxic.  0 [  7.02557527e-05] \n",
      "\n",
      "Tennis: Defending champ David Ferrer crashes out in first round in DohaDavid Ferrer crashes out in the first round of the Qatar Open, beaten in three sets by Ukraine's Ilya Marchenko, ranked No. 94 in the world. 0 [  4.47574848e-07] \n",
      "\n",
      "The 'king of prophets', Geda the monkey tips Donald Trump for US presidencyA Chinese monkey described as the \"king of prophets\" has tipped Republican presidential nominee Donald Trump for the US presidency, a tourism park said, after the creature successfully predicted the winner of football's European Championship final earlier this year.  0 [  7.15032843e-06] \n",
      "\n",
      "Olympics: US swimmers were not robbed, says Rio police chiefStar US swimmer Ryan Lochte and three of his Olympic teammates were not robbed, Rio's police chief says, adding it was not clear if the Team USA athletes would face any charges.  0 [  3.61610009e-07] \n",
      "\n",
      "U.S. judge orders unsealing of Clinton email probe search warrantA US judge on Monday ordered the unsealing of the application used to obtain a search warrant that allowed the FBI to gain access to emails related to Democratic nominee Hillary Clinton's private server shortly before the Nov 8 presidential election. 0 [  8.47403760e-06] \n",
      "\n",
      "Tennis: Nadal downs Fognini to reach Miami finalRafael Nadal marched into the final of the Miami Open, where could face rival Roger Federer, with a 6-1, 7-5 win over Italian Fabio Fognini. 0 [  2.25463881e-08] \n",
      "\n",
      "EU chief Donald Tusk says real risk of European Union breakup over Brexit voteEuropean Union chief Donald Tusk warned Monday there was a \"real\" danger of the 28-nation bloc breaking up over so-called Brexit and called for greater EU coordination to address the risk. 0 [  4.27316172e-06] \n",
      "\n",
      "US bomber flew over Chinese-built island in South China Sea: PentagonA US B-52 strategic bomber flew over Chinese manmade islands in the South China Sea recently and was contacted by Chinese ground controllers but continued its mission undeterred, the Pentagon said on Thursday. 0 [  5.83145578e-06] \n",
      "\n",
      "North Korea will reject Malaysian autopsy report on North Korean - envoyNorth Korea said it would \"categorically reject\" the post-mortem conducted by Malaysia on one of its citizens who died in Kuala Lumpur this week, and demanded the body be released immediately.  1 [ 0.9978835] \n",
      "\n",
      "At least 10 reported dead after explosion in Philippine city DavaoAt least 10 people are reported to have died and dozens have been injured in an explosion in the Philippine President's home city of Davao. Presidential spokesman Ernie Abella told CNN Philippines that there were at least 10 deaths and 60 injuries, according to an online report.  1 [ 0.99988057] \n",
      "\n",
      "Gunmen storm beach restaurant in Somali capital Mogadishu: AFPSeveral gunman attacked a beachfront restaurant in the Somali capital Mogadishu on Thursday (Aug 25), prompting an exchange of fire with the security forces, an AFP correspondent said.  0 [ 0.00018569] \n",
      "\n",
      "Tiny bits of plastic threaten oyster survivalTiny bits of plastic that pollute the world's waters may also interfere with oysters' ability to reproduce and thrive, according to a study Monday by researchers in France and Belgium. 0 [  1.51458630e-05] \n",
      "\n",
      "Report on Russian hacking relied on human sources, technical collection -US spy chiefDirector of National Intelligence James Clapper said on Tuesday (Jan 10)information.  0 [  9.14373231e-07] \n",
      "\n",
      "JUST IN: Paralympics: S'pore miss out on bronze medal in boccia mixed pairs BC3 event, losing to Greece 1-8 0 [ 0.001278] \n",
      "\n",
      "United States officials warn Zika 'scarier' than initially thoughtTop health officials expressed heightened concern on Monday about the threat posed to the United States by the Zika virus, saying the mosquito that spreads it is now present in about 30 states and hundreds of thousands of infections could appear in Puerto Rico. 0 [  2.12869088e-05] \n",
      "\n",
      "World Bank slashes global growth forecast to 2.4 per centA worried World Bank slashed its growth forecast for the global economy countries.  0 [  2.97926931e-07] \n",
      "\n",
      "Pokemon Go, Trump top Google trend listAccording to Google's global trends report released Wednesday (Dec 28), online in 2016.  0 [  5.92253366e-08] \n",
      "\n",
      "London attacks: Three French schoolchildren hurtThe three students from the Concarneau Lycee in Brittany, western in a statement.  0 [ 0.00027461] \n",
      "\n",
      "Taiwanese billionaire Shaw-Lan Wang robbed of jewels at Paris home: PoliceShaw-Lan Wang, 75, a publisher who is also the main shareholder of the French fashion label Lanvin (above),was robbed last week at her Paris home of jewels worth up to 200,000 (S$300,000). 0 [  3.48393637e-05] \n",
      "\n",
      "US Democrats pick Tom Perez to lead party against Donald Trump, RepublicansUSDemocrats elected former Labour Secretary Tom Perez as chairman, choosing a veteran of the Obama administration to lead the daunting task of rebuilding the party and heading the opposition to Republican President Donald Trump. 0 [  4.34464265e-08] \n",
      "\n",
      "US President Donald Trump to team up with Japan's Shinzo Abe for round of golf in FloridaUS President Donald Trump will play a round of golf with Japanese Prime Minister Shinzo Abe in Florida this week and says he will make sure the Japanese leader is his partner in the game, rather than a competitor. 0 [  9.37753306e-08] \n",
      "\n",
      "EU to propose visa-free travel for Ukraine despite Dutch vote: Source The European Commission will propose this month granting visa-free senior EU source said.  0 [  6.01343144e-08] \n",
      "\n",
      "Athletics: IAAF not protective of drug cheats, says presidentThe IAAF ruling body of athletics is proactive in tackling doping and not protective of drug cheats, according to president Sebastian Coe.  0 [  6.15789837e-07] \n",
      "\n",
      "Malaysia's deputy minister among VIPs feared on board missing helicopterSix individuals including a deputy minister are believed to be on a helicopter which has gone missing in Sarawak. Plantation Industries and Commodities Deputy Minister Datuk Noriah Kasnon along with her husband Asmuni Abdullah were on the helicopter.  0 [ 0.00063513] \n",
      "\n",
      "Coroner's Inquiry into chemist's death: Blast at Jurong gas firm was so strong that it blew workers off their chairsThe October 2015 blast caused the death of Madam Lim Siaw Chian (pictured below), 30, a chemist at Leeden National Oxygen, who had then just returned recently from maternity leave. 1 [ 0.99656634] \n",
      "\n",
      "Cameron announces $19 billion in UK-India deals during Modi visitPrime Minister David Cameron said British and Indian companies will announce deals worth a total of 9 billion (S$19 billion) during his Indian counterpart Narendra Modi's visit to Britain. 0 [  2.29457544e-05] \n",
      "\n",
      "Earth's climate past points to overheated future: studyTheplanet may grow intolerably hot even if greenhouse gases in the atmosphere remain at current levels, according to the first two-million-year reconstruction of surface temperatures, published on Monday. 0 [  1.70861864e-06] \n",
      "\n",
      "23 Chinese among Borneo shipwreck survivors, six people missingOfficials said that five Chinese tourists and one Malaysian crew member are still missing.  0 [ 0.05842835] \n",
      "\n",
      "Football: Free agent Ricardo Carvalho joins Shanghai SIPG - reportFormer Real Madrid and Chelsea centre back Ricardo Carvalho has joined Shanghai SIPG as a free agent, China's Xinhua news agency reported. The 38-year-old Portuguese defender has been without a club since August 2016, when he was released by French Ligue 1 side Monaco. 0 [  1.60774199e-07] \n",
      "\n",
      "US President Obama formally endorses Hillary Clinton for presidentUS President Barack Obama formally endorses fellow Democrat Hillary Clinton for president, describing himself as eager to get out and campaign for her, days after she gained the delegates needed to secure the party's White House nomination. 0 [  4.51717121e-07] \n",
      "\n",
      "Football: Georginio Wijnaldum and Newcastle halt Liverpool surge in 2-0 shockerJurgen Klopp's Liverpool resurgence ran aground on Sunday as Georginio Wijnaldum inspired Newcastle United to a much-needed 2-0 home win that eased the pressure on their manager Steve McClaren. 0 [  4.05991585e-07] \n",
      "\n",
      "SpaceX to launch classified US government payload on SundaySpaceX is scheduled to make its first military launch, with a classified payload for the National Reconnaissance Office, which makes and operates spy satellites for the United States. 0 [  1.15296484e-06] \n",
      "\n",
      "World's largest uncut diamond fails to sell in LondonBids fall short for the Lesedi La Rona - a 1,109-carat, tennis ball-sized gem found in Botswana, that had been predicted to sell for over US$70 million (S$94 million).  0 [ 0.00052005] \n",
      "\n",
      "Football: England grab last-gasp win against 10-man Slovakia to give Big Sam winning startAdam Lallana scored with the last kick of the match as England edged Cup qualifying on Sunday.  0 [  5.65795155e-07] \n",
      "\n",
      "Saudi air force pilot son of king named US envoySaudi Arabia named an air force pilot son of King Salman as ambassador to its major ally Washington, with which ties are improving under President Donald Trump. 0 [  8.63700152e-05] \n",
      "\n",
      "Eight-year-old boy charged with baby murder: ReportsAn eight-year-old American boy accused of beating to death a year-old baby while her mother was at a nightclub, has been charged with murder, local media said on Wednesday. 1 [ 1.00000001] \n",
      "\n",
      "Family of Paris attacker at Brussels solidarity vigilHundreds of Belgians joined a candlelight vigil in solidarity with the victims of the Paris attacks on Wednesday.Mohamed Abdeslam - whose brother Brahim blew himself up in Paris while another sibling Salah is still at large - lit a candle on the balcony of the family home. 0 [ 0.05569262] \n",
      "\n",
      "Thousands rally in Paris over extending state of emergencyBraving driving rain and shouting slogans including \"state of emergency - police state\" the marchers protested loudly against a measure they see as curbing human rights.  0 [  2.26440902e-05] \n",
      "\n",
      "Donald Trump says he has narrowed potential running mates picks to 5 or 6 - APTrump told AP in an interview that he had not ruled out New Jersey Governor Chris Christie, a former rival who is now supporting Trump's bid for the White House.  0 [  1.37827962e-07] \n",
      "\n",
      "Woman's head in concrete found in Austrian lakeA German pensioner strangled his wife, dismembered her body and encased  (Jan 5). 0 [ 0.00014026] \n",
      "\n",
      "For Indians, Donald Trump's America is a land of lost opportunityGenerations of Indians have admired the United States for almost everything. But many are infuriated and unnerved by what they see as a wave of racist violence under President Donald Trump, souring the United States' allure. 0 [  4.11370559e-06] \n",
      "\n",
      "American Airlines attendants say new uniforms make them sickMore than 1,600 flight attendants from American Airlines have reported uniforms. 0 [  7.56575928e-05] \n",
      "\n",
      "Golf: Oakmont to host US Open for 10th time in 2025Oakmont Country Club, hosting the US Open for a record ninth time this week, will hold the championship again in 2025, the US Golf Association says. 0 [  7.74430653e-08] \n",
      "\n",
      "Germany legalises cannabis for medicinal purposesGermany's lower house of parliament on Thursday (Jan 19) passed a law  are chronically ill.  0 [  1.47993833e-05] \n",
      "\n",
      "Facebook to enable safety check more in disasters after criticism following Paris attacksFacebook vowed on Monday to turn on its \"Safety Check\" feature more often during disasters in response to growing criticism that it only enabled the function after the attacks in Paris. 0 [  2.06344870e-06] \n",
      "\n",
      "Boris Johnson tells UN Brexit is not isolationismBritish Foreign Secretary Boris Johnson goes to the United Nations to deliver the message that Britain's vote to leave the European Union does not signal a turn toward isolationism.  0 [  5.66867740e-07] \n",
      "\n",
      "US President Donald Trump hails Sisi's 'fantastic job' in Egypt in landmark meetingUS President Donald Trump set human rights scandals aside to welcome Abdel Fattah al-Sisi to the White House on Monday the first such visit from an Egyptian president in almost a decade. 0 [  5.92144104e-07] \n",
      "\n",
      "Matthew swamps North Carolina, still dangerous as it heads out to seaEmergency crews in boats rescued hundreds of people from floodwaters andweakening on Sunday (Oct 9) and turning out to sea.  0 [ 0.00066827] \n",
      "\n",
      "Fatal police shootings reflect 'serious problem' in US: Obama\"What's clear is that these fatal shootings are not isolated incidents,\" Obama said in a statement on Facebook.\"They are symptomatic of the broader challenges within our criminal justice system, the racial disparities that appear across the system year after year, and the resulting lack of trust that exists between law enforcement and too many of the communities they serve.\" 0 [  7.24716790e-06] \n",
      "\n",
      "Making hay at Poland's world scything championshipsSome of the world's top grass cutters swung into action in Poland this weekend for the 15th annual scything championships, bringing a competitive edge - and some sporting fun - to the traditional rural practice. 0 [  2.27927683e-05] \n",
      "\n",
      "Greece counts down to first Turkey migrant returns under EU dealGreece was on Sunday (April 3) making final preparations to return landmark EU deal that has been slammed by rights watchdogs.  0 [  1.09383880e-06] \n",
      "\n",
      "Football: Man City title hopes hit by 3-0 defeat to LiverpoolManchester City's Premier League title hopes were dealt another stinging blow as Liverpool gained revenge for their League Cup final defeat with a comprehensive 3-0 win at Anfield on Wednesday. 0 [  2.60703107e-07] \n",
      "\n",
      "Olympics: Chinese teenagers take diving gold, silver on 10m platformChinese teenagers Ren Qian and Si Yajie claim the gold and silver medals respectively in the women's individual 10 metre platform event, with the bronze going to Canada's Meaghan Benfeito. 0 [  9.51337746e-08] \n",
      "\n",
      "Formula One: Hamilton trusts Mercedes '1,000 per cent'Lewis Hamilton said Friday he trusts his Mercedes outfit \"1,000 per cent\" as he warned fans not to get caught up in talk of the world champions conspiring against him in favour of teammate Nico Rosberg. 0 [  5.05008600e-07] \n",
      "\n",
      "'I thought I was going to die': Billionaire Richard Branson in harrowing bike crashBranson, 66, was cycling downhill in the British Virgin Islands with his two children when he hit a hump in the dark. \"The next thing I knew, I was being hurled over the handlebars and my life was literally flashing before my eyes,\" he said in a blog post.  1 [ 0.99934418] \n",
      "\n",
      "BreadTalk to open in Myanmar next yearIt signed a franchise agreement with Myanmar Bakery on Tuesday (May 3), which will allow Myanmar Bakery to hold the master franchise to operate BreadTalk outlets in Myanmar.  0 [  5.90965183e-05] \n",
      "\n",
      "Golf: Swede Alex Noren wins Scottish Open by one shotIce-cool Swede Alex Noren held his nerve to clinch a fifth career victory on the European Tour by one shot at the Scottish Open in Inverness on Sunday. 0 [  1.27271034e-06] \n",
      "\n",
      "China indicates fate of three missing Hong Kong booksellersChinese police have confirmed for the first time that three of five Hong Kong booksellers who went missing were being investigated for \"illegal activities\" in China, according to a letter sent to Hong Kong's police on Thursday. 0 [  2.25725707e-07] \n",
      "\n"
     ]
    }
   ],
   "source": [
    "for i,j,k in zip( wrong,wrong_y,wrong_pred)[0::20]:\n",
    "    id_wrong = np.argmax(np.sum(np.array([data['wordVec2']]) == list(i),(0,2)))\n",
    "    # print text, label, prediction\n",
    "    print data.iloc[id_wrong]['data_clean'],j,k,'\\n'"
   ]
  }
 ],
 "metadata": {
  "kernelspec": {
   "display_name": "Python 2",
   "language": "python",
   "name": "python2"
  },
  "language_info": {
   "codemirror_mode": {
    "name": "ipython",
    "version": 2
   },
   "file_extension": ".py",
   "mimetype": "text/x-python",
   "name": "python",
   "nbconvert_exporter": "python",
   "pygments_lexer": "ipython2",
   "version": "2.7.13"
  }
 },
 "nbformat": 4,
 "nbformat_minor": 2
}
