{
 "cells": [
  {
   "cell_type": "code",
   "execution_count": 1,
   "metadata": {
    "collapsed": true
   },
   "outputs": [],
   "source": [
    "import torch\n",
    "import torch.nn as nn\n",
    "import torch.nn.functional as F\n",
    "import torch.optim as optim\n",
    "from torchvision import datasets, transforms\n",
    "from torch.autograd import Variable"
   ]
  },
  {
   "cell_type": "code",
   "execution_count": 2,
   "metadata": {},
   "outputs": [
    {
     "name": "stdout",
     "output_type": "stream",
     "text": [
      "False\n",
      "False\n"
     ]
    }
   ],
   "source": [
    "# Training settings\n",
    "batch_size=64\n",
    "test_batch_size=1000\n",
    "epochs=1\n",
    "lr=0.01\n",
    "momentum=0.5\n",
    "no_cuda=False,\n",
    "seed=1 #help='random seed (default: 1)')\n",
    "log_interval=10 #how many batches to wait before logging training status\n",
    "\n",
    "cuda = not no_cuda and torch.cuda.is_available()\n",
    "print(cuda)\n",
    "cuda = torch.cuda.is_available()\n",
    "print(cuda)"
   ]
  },
  {
   "cell_type": "code",
   "execution_count": 3,
   "metadata": {},
   "outputs": [],
   "source": [
    "torch.manual_seed(seed)\n",
    "if cuda:\n",
    "    torch.cuda.manual_seed(seed)"
   ]
  },
  {
   "cell_type": "markdown",
   "metadata": {},
   "source": [
    "Params for if using cuda"
   ]
  },
  {
   "cell_type": "code",
   "execution_count": 4,
   "metadata": {},
   "outputs": [],
   "source": [
    "params = {'num_workers': 1, 'pin_memory': True} if cuda else {}\n"
   ]
  },
  {
   "cell_type": "markdown",
   "metadata": {},
   "source": [
    "#### Loading MNIST data and normalizing it"
   ]
  },
  {
   "cell_type": "code",
   "execution_count": 5,
   "metadata": {},
   "outputs": [],
   "source": [
    "train_loader = torch.utils.data.DataLoader(\n",
    "    datasets.MNIST('../data', train=True, download=True,\n",
    "                   transform=transforms.Compose([\n",
    "                       transforms.ToTensor(),\n",
    "                       transforms.Normalize((0.1307,), (0.3081,))\n",
    "                   ])),\n",
    "    batch_size=batch_size, shuffle=True, **params)\n",
    "test_loader = torch.utils.data.DataLoader(\n",
    "    datasets.MNIST('../data', train=False, transform=transforms.Compose([\n",
    "                       transforms.ToTensor(),\n",
    "                       transforms.Normalize((0.1307,), (0.3081,))\n",
    "                   ])),\n",
    "    batch_size=batch_size, shuffle=True, **params)"
   ]
  },
  {
   "cell_type": "markdown",
   "metadata": {},
   "source": [
    "#### Creating the model\n",
    "\n",
    "nn.Module = Base class for all neural network modules.\n",
    "\n",
    "2d conv = nn.Conv2d(filtersize_input,filters_out, kernel_size)   #padding??  \n",
    "fully connected = nn.Linear(inputs,outputs) # ??? why Linear Applies a linear transformation to the incoming data: y=Ax+b  \n",
    "dropout = nn.Dropout(p=0.5, inplace=False)  "
   ]
  },
  {
   "cell_type": "code",
   "execution_count": 6,
   "metadata": {
    "collapsed": true
   },
   "outputs": [],
   "source": [
    "class Net(nn.Module):\n",
    "    def __init__(self):\n",
    "        super(Net, self).__init__()\n",
    "        self.conv1 = nn.Conv2d(1, 10, kernel_size=5)\n",
    "        self.conv2 = nn.Conv2d(10, 20, kernel_size=5)\n",
    "        self.conv2_drop = nn.Dropout(0.5)\n",
    "        self.fc1 = nn.Linear(320, 50)\n",
    "        self.fc2 = nn.Linear(50, 10)\n",
    "\n",
    "    def forward(self, x):\n",
    "        x = F.relu(F.max_pool2d(self.conv1(x), 2))\n",
    "        x = F.relu(F.max_pool2d(self.conv2_drop(self.conv2(x)), 2))\n",
    "        x = x.view(-1, 320)\n",
    "        x = F.relu(self.fc1(x))\n",
    "        x = F.dropout(x, training=self.training)\n",
    "        x = self.fc2(x)\n",
    "        return F.log_softmax(x)\n",
    "\n",
    "model = Net()"
   ]
  },
  {
   "cell_type": "code",
   "execution_count": 7,
   "metadata": {
    "collapsed": true
   },
   "outputs": [],
   "source": [
    "optimizer = optim.SGD(model.parameters(), lr=lr, momentum=momentum)"
   ]
  },
  {
   "cell_type": "code",
   "execution_count": 8,
   "metadata": {
    "collapsed": true
   },
   "outputs": [],
   "source": [
    "def train(epoch):\n",
    "    model.train()\n",
    "    for batch_idx, (data, target) in enumerate(train_loader):\n",
    "        if cuda:\n",
    "            data, target = data.cuda(), target.cuda()\n",
    "        data, target = Variable(data), Variable(target)\n",
    "        optimizer.zero_grad()\n",
    "        output = model(data)\n",
    "        loss = F.nll_loss(output, target)\n",
    "        loss.backward()\n",
    "        optimizer.step()\n",
    "        if batch_idx % log_interval == 0:\n",
    "            print('Train Epoch: {} [{}/{} ({:.0f}%)]\\tLoss: {:.6f}'.format(\n",
    "                epoch, batch_idx * len(data), len(train_loader.dataset),\n",
    "                100. * batch_idx / len(train_loader), loss.data[0]))"
   ]
  },
  {
   "cell_type": "code",
   "execution_count": 9,
   "metadata": {
    "collapsed": true
   },
   "outputs": [],
   "source": [
    "def test(epoch):\n",
    "    model.eval()\n",
    "    test_loss = 0\n",
    "    correct = 0\n",
    "    for data, target in test_loader:\n",
    "        if cuda:\n",
    "            data, target = data.cuda(), target.cuda()\n",
    "        data, target = Variable(data, volatile=True), Variable(target)\n",
    "        output = model(data)\n",
    "        test_loss += F.nll_loss(output, target).data[0]\n",
    "        pred = output.data.max(1)[1] # get the index of the max log-probability\n",
    "        correct += pred.eq(target.data).cpu().sum()\n",
    "\n",
    "    test_loss = test_loss\n",
    "    test_loss /= len(test_loader) # loss function already averages over batch size\n",
    "    print('\\nTest set: Average loss: {:.4f}, Accuracy: {}/{} ({:.2f}%)\\n'.format(\n",
    "        test_loss, correct, len(test_loader.dataset),\n",
    "        100. * correct / len(test_loader.dataset)))\n",
    "\n"
   ]
  },
  {
   "cell_type": "code",
   "execution_count": 10,
   "metadata": {},
   "outputs": [
    {
     "name": "stdout",
     "output_type": "stream",
     "text": [
      "Train Epoch: 1 [0/60000 (0%)]\tLoss: 2.340125\n",
      "Train Epoch: 1 [640/60000 (1%)]\tLoss: 2.318111\n",
      "Train Epoch: 1 [1280/60000 (2%)]\tLoss: 2.264411\n",
      "Train Epoch: 1 [1920/60000 (3%)]\tLoss: 2.206053\n",
      "Train Epoch: 1 [2560/60000 (4%)]\tLoss: 2.166254\n",
      "Train Epoch: 1 [3200/60000 (5%)]\tLoss: 2.188091\n",
      "Train Epoch: 1 [3840/60000 (6%)]\tLoss: 2.065116\n",
      "Train Epoch: 1 [4480/60000 (7%)]\tLoss: 1.819609\n",
      "Train Epoch: 1 [5120/60000 (9%)]\tLoss: 1.730206\n",
      "Train Epoch: 1 [5760/60000 (10%)]\tLoss: 1.522603\n",
      "Train Epoch: 1 [6400/60000 (11%)]\tLoss: 1.485478\n",
      "Train Epoch: 1 [7040/60000 (12%)]\tLoss: 1.224622\n",
      "Train Epoch: 1 [7680/60000 (13%)]\tLoss: 1.022467\n",
      "Train Epoch: 1 [8320/60000 (14%)]\tLoss: 1.098657\n",
      "Train Epoch: 1 [8960/60000 (15%)]\tLoss: 1.113300\n",
      "Train Epoch: 1 [9600/60000 (16%)]\tLoss: 1.107109\n",
      "Train Epoch: 1 [10240/60000 (17%)]\tLoss: 0.981816\n",
      "Train Epoch: 1 [10880/60000 (18%)]\tLoss: 0.972617\n",
      "Train Epoch: 1 [11520/60000 (19%)]\tLoss: 0.871269\n",
      "Train Epoch: 1 [12160/60000 (20%)]\tLoss: 1.003348\n",
      "Train Epoch: 1 [12800/60000 (21%)]\tLoss: 0.818652\n",
      "Train Epoch: 1 [13440/60000 (22%)]\tLoss: 0.692984\n",
      "Train Epoch: 1 [14080/60000 (23%)]\tLoss: 0.891797\n",
      "Train Epoch: 1 [14720/60000 (25%)]\tLoss: 0.991508\n",
      "Train Epoch: 1 [15360/60000 (26%)]\tLoss: 0.843747\n",
      "Train Epoch: 1 [16000/60000 (27%)]\tLoss: 0.898653\n",
      "Train Epoch: 1 [16640/60000 (28%)]\tLoss: 0.655253\n",
      "Train Epoch: 1 [17280/60000 (29%)]\tLoss: 0.496620\n",
      "Train Epoch: 1 [17920/60000 (30%)]\tLoss: 0.805190\n",
      "Train Epoch: 1 [18560/60000 (31%)]\tLoss: 0.744804\n",
      "Train Epoch: 1 [19200/60000 (32%)]\tLoss: 0.783068\n",
      "Train Epoch: 1 [19840/60000 (33%)]\tLoss: 0.677843\n",
      "Train Epoch: 1 [20480/60000 (34%)]\tLoss: 0.718088\n",
      "Train Epoch: 1 [21120/60000 (35%)]\tLoss: 0.783614\n",
      "Train Epoch: 1 [21760/60000 (36%)]\tLoss: 0.595602\n",
      "Train Epoch: 1 [22400/60000 (37%)]\tLoss: 0.490581\n",
      "Train Epoch: 1 [23040/60000 (38%)]\tLoss: 0.625258\n",
      "Train Epoch: 1 [23680/60000 (39%)]\tLoss: 0.833002\n",
      "Train Epoch: 1 [24320/60000 (41%)]\tLoss: 0.737897\n",
      "Train Epoch: 1 [24960/60000 (42%)]\tLoss: 0.525770\n",
      "Train Epoch: 1 [25600/60000 (43%)]\tLoss: 0.420877\n",
      "Train Epoch: 1 [26240/60000 (44%)]\tLoss: 0.659087\n",
      "Train Epoch: 1 [26880/60000 (45%)]\tLoss: 0.446754\n",
      "Train Epoch: 1 [27520/60000 (46%)]\tLoss: 0.583633\n",
      "Train Epoch: 1 [28160/60000 (47%)]\tLoss: 0.538161\n",
      "Train Epoch: 1 [28800/60000 (48%)]\tLoss: 0.316054\n",
      "Train Epoch: 1 [29440/60000 (49%)]\tLoss: 0.448079\n",
      "Train Epoch: 1 [30080/60000 (50%)]\tLoss: 0.566515\n",
      "Train Epoch: 1 [30720/60000 (51%)]\tLoss: 0.555716\n",
      "Train Epoch: 1 [31360/60000 (52%)]\tLoss: 0.686721\n",
      "Train Epoch: 1 [32000/60000 (53%)]\tLoss: 0.580651\n",
      "Train Epoch: 1 [32640/60000 (54%)]\tLoss: 0.658037\n",
      "Train Epoch: 1 [33280/60000 (55%)]\tLoss: 0.364258\n",
      "Train Epoch: 1 [33920/60000 (57%)]\tLoss: 0.492791\n",
      "Train Epoch: 1 [34560/60000 (58%)]\tLoss: 0.393797\n",
      "Train Epoch: 1 [35200/60000 (59%)]\tLoss: 0.404391\n",
      "Train Epoch: 1 [35840/60000 (60%)]\tLoss: 0.322283\n",
      "Train Epoch: 1 [36480/60000 (61%)]\tLoss: 0.305472\n",
      "Train Epoch: 1 [37120/60000 (62%)]\tLoss: 0.491937\n",
      "Train Epoch: 1 [37760/60000 (63%)]\tLoss: 0.723366\n",
      "Train Epoch: 1 [38400/60000 (64%)]\tLoss: 0.433493\n",
      "Train Epoch: 1 [39040/60000 (65%)]\tLoss: 0.572534\n",
      "Train Epoch: 1 [39680/60000 (66%)]\tLoss: 0.506383\n",
      "Train Epoch: 1 [40320/60000 (67%)]\tLoss: 0.513763\n",
      "Train Epoch: 1 [40960/60000 (68%)]\tLoss: 0.462648\n",
      "Train Epoch: 1 [41600/60000 (69%)]\tLoss: 0.488348\n",
      "Train Epoch: 1 [42240/60000 (70%)]\tLoss: 0.421247\n",
      "Train Epoch: 1 [42880/60000 (71%)]\tLoss: 0.587931\n",
      "Train Epoch: 1 [43520/60000 (72%)]\tLoss: 0.373584\n",
      "Train Epoch: 1 [44160/60000 (74%)]\tLoss: 0.508866\n",
      "Train Epoch: 1 [44800/60000 (75%)]\tLoss: 0.423784\n",
      "Train Epoch: 1 [45440/60000 (76%)]\tLoss: 0.412103\n",
      "Train Epoch: 1 [46080/60000 (77%)]\tLoss: 0.334220\n",
      "Train Epoch: 1 [46720/60000 (78%)]\tLoss: 0.402038\n",
      "Train Epoch: 1 [47360/60000 (79%)]\tLoss: 0.404822\n",
      "Train Epoch: 1 [48000/60000 (80%)]\tLoss: 0.392909\n",
      "Train Epoch: 1 [48640/60000 (81%)]\tLoss: 0.271847\n",
      "Train Epoch: 1 [49280/60000 (82%)]\tLoss: 0.276863\n",
      "Train Epoch: 1 [49920/60000 (83%)]\tLoss: 0.469053\n",
      "Train Epoch: 1 [50560/60000 (84%)]\tLoss: 0.336200\n",
      "Train Epoch: 1 [51200/60000 (85%)]\tLoss: 0.249445\n",
      "Train Epoch: 1 [51840/60000 (86%)]\tLoss: 0.475821\n",
      "Train Epoch: 1 [52480/60000 (87%)]\tLoss: 0.208034\n",
      "Train Epoch: 1 [53120/60000 (88%)]\tLoss: 0.352406\n",
      "Train Epoch: 1 [53760/60000 (90%)]\tLoss: 0.298620\n",
      "Train Epoch: 1 [54400/60000 (91%)]\tLoss: 0.364648\n",
      "Train Epoch: 1 [55040/60000 (92%)]\tLoss: 0.325513\n",
      "Train Epoch: 1 [55680/60000 (93%)]\tLoss: 0.463888\n",
      "Train Epoch: 1 [56320/60000 (94%)]\tLoss: 0.254957\n",
      "Train Epoch: 1 [56960/60000 (95%)]\tLoss: 0.297620\n",
      "Train Epoch: 1 [57600/60000 (96%)]\tLoss: 0.395440\n",
      "Train Epoch: 1 [58240/60000 (97%)]\tLoss: 0.141886\n",
      "Train Epoch: 1 [58880/60000 (98%)]\tLoss: 0.174599\n",
      "Train Epoch: 1 [59520/60000 (99%)]\tLoss: 0.474866\n",
      "\n",
      "Test set: Average loss: 0.2060, Accuracy: 9597/10000 (95.97%)\n",
      "\n"
     ]
    }
   ],
   "source": [
    "for epoch in range(1, epochs + 1):\n",
    "    train(epoch)\n",
    "    test(epoch)"
   ]
  },
  {
   "cell_type": "code",
   "execution_count": null,
   "metadata": {
    "collapsed": true
   },
   "outputs": [],
   "source": []
  }
 ],
 "metadata": {
  "kernelspec": {
   "display_name": "Python 3",
   "language": "python",
   "name": "python3"
  },
  "language_info": {
   "codemirror_mode": {
    "name": "ipython",
    "version": 3
   },
   "file_extension": ".py",
   "mimetype": "text/x-python",
   "name": "python",
   "nbconvert_exporter": "python",
   "pygments_lexer": "ipython3",
   "version": "3.5.3"
  }
 },
 "nbformat": 4,
 "nbformat_minor": 1
}
