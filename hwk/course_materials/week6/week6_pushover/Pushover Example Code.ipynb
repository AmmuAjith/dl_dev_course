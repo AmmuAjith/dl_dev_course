{
 "cells": [
  {
   "cell_type": "code",
   "execution_count": 34,
   "metadata": {
    "collapsed": true
   },
   "outputs": [],
   "source": [
    "from pushover import PushOver"
   ]
  },
  {
   "cell_type": "markdown",
   "metadata": {},
   "source": [
    "### Pushover : App notifications for when training is done\n",
    "https://pushover.net/\n",
    "If not using PushOver then just code out these lines"
   ]
  },
  {
   "cell_type": "code",
   "execution_count": 35,
   "metadata": {
    "collapsed": true
   },
   "outputs": [],
   "source": [
    "user_key = 'insert_key'\n",
    "app_token = \"app_token\"\n",
    "alert = PushOver(app_token,user_key)"
   ]
  },
  {
   "cell_type": "code",
   "execution_count": 36,
   "metadata": {},
   "outputs": [
    {
     "name": "stdout",
     "output_type": "stream",
     "text": [
      "Message: 50 Epochs done and model saved just now\n",
      "Title: GPU Training Done\n",
      "Sound: climb\n"
     ]
    }
   ],
   "source": [
    "alert.title = 'GPU Training Done'\n",
    "alert.sound = 'climb' #'tugboat'\n",
    "alert.msg = '50 Epochs done and model saved just now'\n",
    "alert.show_message()"
   ]
  },
  {
   "cell_type": "code",
   "execution_count": 38,
   "metadata": {},
   "outputs": [
    {
     "name": "stdout",
     "output_type": "stream",
     "text": [
      "sending\n"
     ]
    }
   ],
   "source": [
    "alert.send()"
   ]
  }
 ],
 "metadata": {
  "kernelspec": {
   "display_name": "Python 3",
   "language": "python",
   "name": "python3"
  },
  "language_info": {
   "codemirror_mode": {
    "name": "ipython",
    "version": 3
   },
   "file_extension": ".py",
   "mimetype": "text/x-python",
   "name": "python",
   "nbconvert_exporter": "python",
   "pygments_lexer": "ipython3",
   "version": "3.5.3"
  }
 },
 "nbformat": 4,
 "nbformat_minor": 2
}
