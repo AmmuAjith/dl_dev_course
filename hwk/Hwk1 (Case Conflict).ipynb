{
 "cells": [
  {
   "cell_type": "code",
   "execution_count": 1,
   "metadata": {
    "collapsed": false
   },
   "outputs": [
    {
     "data": {
      "text/plain": [
       "'\\nSparse hasing, trying two or three times \\n\\nfollowed by embeddings\\n\\nembedding story - for peoples recommendation to embeddding products and people. If people are simillar, \\nthey are givne simllar recommendations.\\n\\nData - where can you get the data\\n\\n'"
      ]
     },
     "execution_count": 1,
     "metadata": {},
     "output_type": "execute_result"
    }
   ],
   "source": [
    "'''\n",
    "Sparse hasing, trying two or three times \n",
    "\n",
    "followed by embeddings\n",
    "\n",
    "embedding story - for peoples recommendation to embeddding products and people. If people are simillar, \n",
    "they are givne simllar recommendations.\n",
    "\n",
    "Data - where can you get the data\n",
    "\n",
    "'''"
   ]
  },
  {
   "cell_type": "code",
   "execution_count": 2,
   "metadata": {
    "collapsed": false
   },
   "outputs": [
    {
     "name": "stderr",
     "output_type": "stream",
     "text": [
      "Using TensorFlow backend.\n"
     ]
    }
   ],
   "source": [
    "%matplotlib inline\n",
    "import matplotlib.pyplot as plt\n",
    "\n",
    "import keras\n",
    "from keras.models import Model, Sequential\n",
    "from keras.layers import *\n",
    "from keras.optimizers import Adam\n",
    "\n",
    "import tensorflow as tf\n",
    "import numpy as np"
   ]
  },
  {
   "cell_type": "code",
   "execution_count": 3,
   "metadata": {
    "collapsed": false
   },
   "outputs": [
    {
     "name": "stdout",
     "output_type": "stream",
     "text": [
      "2.0.8\n",
      "1.3.0\n"
     ]
    }
   ],
   "source": [
    "print(keras.__version__)\n",
    "print(tf.__version__)"
   ]
  },
  {
   "cell_type": "code",
   "execution_count": 4,
   "metadata": {
    "collapsed": false
   },
   "outputs": [],
   "source": [
    "np.random.seed(0)\n",
    "datax = np.random.randint(0,100,(100000,2),dtype =np.uint8)"
   ]
  },
  {
   "cell_type": "code",
   "execution_count": 5,
   "metadata": {
    "collapsed": false
   },
   "outputs": [],
   "source": [
    "datay = map(lambda x :x[0] + x[1],datax)"
   ]
  },
  {
   "cell_type": "code",
   "execution_count": 6,
   "metadata": {
    "collapsed": false
   },
   "outputs": [
    {
     "name": "stdout",
     "output_type": "stream",
     "text": [
      "[[44 10]\n",
      " [12 47]\n",
      " [42 68]\n",
      " [23 38]\n",
      " [22 55]]\n",
      "[54, 59, 110, 61, 77]\n"
     ]
    }
   ],
   "source": [
    "print datax[0:5]\n",
    "print datay[0:5]"
   ]
  },
  {
   "cell_type": "code",
   "execution_count": 7,
   "metadata": {
    "collapsed": false
   },
   "outputs": [
    {
     "name": "stdout",
     "output_type": "stream",
     "text": [
      "_________________________________________________________________\n",
      "Layer (type)                 Output Shape              Param #   \n",
      "=================================================================\n",
      "input_1 (InputLayer)         (None, 2)                 0         \n",
      "_________________________________________________________________\n",
      "Dense_1 (Dense)              (None, 10)                30        \n",
      "_________________________________________________________________\n",
      "Dense_2 (Dense)              (None, 20)                220       \n",
      "_________________________________________________________________\n",
      "Dense_3 (Dense)              (None, 30)                630       \n",
      "_________________________________________________________________\n",
      "Outputlayer (Dense)          (None, 201)               6231      \n",
      "=================================================================\n",
      "Total params: 7,111\n",
      "Trainable params: 7,111\n",
      "Non-trainable params: 0\n",
      "_________________________________________________________________\n"
     ]
    }
   ],
   "source": [
    "Inp = Input(shape=(2,))\n",
    "x = Dense(10, activation='relu', name = \"Dense_1\")(Inp)\n",
    "\n",
    "x = Dense(20, activation='relu', name = \"Dense_2\")(x)\n",
    "x = Dense(30, activation='relu', name = \"Dense_3\")(x)\n",
    "output = Dense(201, activation='softmax', name = \"Outputlayer\")(x)\n",
    "model = Model(Inp, output)\n",
    "model.summary()"
   ]
  },
  {
   "cell_type": "code",
   "execution_count": 8,
   "metadata": {
    "collapsed": false
   },
   "outputs": [],
   "source": [
    "datay = keras.utils.to_categorical(datay, 201)"
   ]
  },
  {
   "cell_type": "code",
   "execution_count": 9,
   "metadata": {
    "collapsed": false
   },
   "outputs": [
    {
     "data": {
      "text/plain": [
       "array([ 54,  59, 110,  61,  77])"
      ]
     },
     "execution_count": 9,
     "metadata": {},
     "output_type": "execute_result"
    }
   ],
   "source": [
    "np.argmax(datay[0:5],axis=1)"
   ]
  },
  {
   "cell_type": "code",
   "execution_count": 10,
   "metadata": {
    "collapsed": false
   },
   "outputs": [],
   "source": [
    "datax_sca = (datax-50.0) /100"
   ]
  },
  {
   "cell_type": "code",
   "execution_count": 11,
   "metadata": {
    "collapsed": false
   },
   "outputs": [
    {
     "name": "stdout",
     "output_type": "stream",
     "text": [
      "Train on 50000 samples, validate on 50000 samples\n",
      "Epoch 1/100\n",
      "50000/50000 [==============================] - 12s - loss: 5.2876 - acc: 0.0093 - val_loss: 5.2727 - val_acc: 0.0103\n",
      "Epoch 2/100\n",
      "50000/50000 [==============================] - 12s - loss: 5.2548 - acc: 0.0126 - val_loss: 5.2366 - val_acc: 0.0123\n",
      "Epoch 3/100\n",
      "50000/50000 [==============================] - 12s - loss: 5.2025 - acc: 0.0105 - val_loss: 5.1634 - val_acc: 0.0090\n",
      "Epoch 4/100\n",
      "50000/50000 [==============================] - 12s - loss: 5.1072 - acc: 0.0105 - val_loss: 5.0606 - val_acc: 0.0093\n",
      "Epoch 5/100\n",
      "50000/50000 [==============================] - 12s - loss: 4.9991 - acc: 0.0110 - val_loss: 4.9389 - val_acc: 0.0150\n",
      "Epoch 6/100\n",
      "50000/50000 [==============================] - 12s - loss: 4.8356 - acc: 0.0186 - val_loss: 4.7223 - val_acc: 0.0143\n",
      "Epoch 7/100\n",
      "50000/50000 [==============================] - 12s - loss: 4.5478 - acc: 0.0297 - val_loss: 4.3705 - val_acc: 0.0361\n",
      "Epoch 8/100\n",
      "50000/50000 [==============================] - 12s - loss: 4.1761 - acc: 0.0489 - val_loss: 4.0032 - val_acc: 0.0520\n",
      "Epoch 9/100\n",
      "50000/50000 [==============================] - 12s - loss: 3.8478 - acc: 0.0634 - val_loss: 3.7176 - val_acc: 0.0648\n",
      "Epoch 10/100\n",
      "50000/50000 [==============================] - 12s - loss: 3.6085 - acc: 0.0756 - val_loss: 3.5674 - val_acc: 0.0627\n",
      "Epoch 11/100\n",
      "50000/50000 [==============================] - 12s - loss: 3.4432 - acc: 0.0853 - val_loss: 3.4211 - val_acc: 0.0697\n",
      "Epoch 12/100\n",
      "50000/50000 [==============================] - 12s - loss: 3.3228 - acc: 0.0913 - val_loss: 3.3496 - val_acc: 0.0731\n",
      "Epoch 13/100\n",
      "50000/50000 [==============================] - 12s - loss: 3.2267 - acc: 0.1002 - val_loss: 3.7847 - val_acc: 0.0732\n",
      "Epoch 14/100\n",
      "50000/50000 [==============================] - 12s - loss: 3.1456 - acc: 0.1060 - val_loss: 3.2213 - val_acc: 0.0625\n",
      "Epoch 15/100\n",
      "50000/50000 [==============================] - 12s - loss: 3.0717 - acc: 0.1127 - val_loss: 3.0571 - val_acc: 0.0870\n",
      "Epoch 16/100\n",
      "50000/50000 [==============================] - 11s - loss: 3.0057 - acc: 0.1198 - val_loss: 3.0323 - val_acc: 0.0938\n",
      "Epoch 17/100\n",
      "50000/50000 [==============================] - 11s - loss: 2.9443 - acc: 0.1233 - val_loss: 3.2516 - val_acc: 0.0935\n",
      "Epoch 18/100\n",
      "50000/50000 [==============================] - 12s - loss: 2.8885 - acc: 0.1288 - val_loss: 2.9707 - val_acc: 0.0930\n",
      "Epoch 19/100\n",
      "50000/50000 [==============================] - 12s - loss: 2.8358 - acc: 0.1338 - val_loss: 2.9543 - val_acc: 0.1222\n",
      "Epoch 20/100\n",
      "50000/50000 [==============================] - 12s - loss: 2.7867 - acc: 0.1428 - val_loss: 2.9399 - val_acc: 0.1155\n",
      "Epoch 21/100\n",
      "50000/50000 [==============================] - 13s - loss: 2.7464 - acc: 0.1461 - val_loss: 2.8046 - val_acc: 0.1325\n",
      "Epoch 22/100\n",
      "50000/50000 [==============================] - 12s - loss: 2.7092 - acc: 0.1507 - val_loss: 2.8506 - val_acc: 0.1172\n",
      "Epoch 23/100\n",
      "50000/50000 [==============================] - 13s - loss: 2.6749 - acc: 0.1555 - val_loss: 2.7628 - val_acc: 0.1198\n",
      "Epoch 24/100\n",
      "50000/50000 [==============================] - 12s - loss: 2.6427 - acc: 0.1588 - val_loss: 2.7141 - val_acc: 0.1436\n",
      "Epoch 25/100\n",
      "50000/50000 [==============================] - 12s - loss: 2.6141 - acc: 0.1610 - val_loss: 2.7936 - val_acc: 0.1678\n",
      "Epoch 26/100\n",
      "50000/50000 [==============================] - 12s - loss: 2.5912 - acc: 0.1652 - val_loss: 2.7136 - val_acc: 0.1626\n",
      "Epoch 27/100\n",
      "50000/50000 [==============================] - 12s - loss: 2.5627 - acc: 0.1703 - val_loss: 2.6862 - val_acc: 0.1558\n",
      "Epoch 28/100\n",
      "50000/50000 [==============================] - 12s - loss: 2.5389 - acc: 0.1740 - val_loss: 2.5820 - val_acc: 0.1804\n",
      "Epoch 29/100\n",
      "50000/50000 [==============================] - 11s - loss: 2.5188 - acc: 0.1755 - val_loss: 2.6541 - val_acc: 0.1896\n",
      "Epoch 30/100\n",
      "50000/50000 [==============================] - 12s - loss: 2.4957 - acc: 0.1779 - val_loss: 2.6417 - val_acc: 0.1518\n",
      "Epoch 31/100\n",
      "50000/50000 [==============================] - 11s - loss: 2.4717 - acc: 0.1833 - val_loss: 2.6258 - val_acc: 0.1695\n",
      "Epoch 32/100\n",
      "50000/50000 [==============================] - 11s - loss: 2.4530 - acc: 0.1864 - val_loss: 2.5906 - val_acc: 0.1657\n",
      "Epoch 33/100\n",
      "50000/50000 [==============================] - 12s - loss: 2.4325 - acc: 0.1902 - val_loss: 2.5582 - val_acc: 0.1325\n",
      "Epoch 34/100\n",
      "50000/50000 [==============================] - 11s - loss: 2.4110 - acc: 0.1941 - val_loss: 2.4923 - val_acc: 0.1585\n",
      "Epoch 35/100\n",
      "50000/50000 [==============================] - 11s - loss: 2.3931 - acc: 0.1972 - val_loss: 2.6251 - val_acc: 0.1614\n",
      "Epoch 36/100\n",
      "50000/50000 [==============================] - 12s - loss: 2.3738 - acc: 0.1979 - val_loss: 2.6702 - val_acc: 0.1511\n",
      "Epoch 37/100\n",
      "50000/50000 [==============================] - 11s - loss: 2.3556 - acc: 0.2017 - val_loss: 2.5097 - val_acc: 0.1667\n",
      "Epoch 38/100\n",
      "50000/50000 [==============================] - 11s - loss: 2.3398 - acc: 0.2066 - val_loss: 2.5103 - val_acc: 0.1630\n",
      "Epoch 39/100\n",
      "50000/50000 [==============================] - 11s - loss: 2.3180 - acc: 0.2095 - val_loss: 2.4474 - val_acc: 0.1637\n",
      "Epoch 40/100\n",
      "50000/50000 [==============================] - 12s - loss: 2.2988 - acc: 0.2138 - val_loss: 2.4513 - val_acc: 0.1912\n",
      "Epoch 41/100\n",
      "50000/50000 [==============================] - 12s - loss: 2.2789 - acc: 0.2168 - val_loss: 2.4282 - val_acc: 0.1765\n",
      "Epoch 42/100\n",
      "50000/50000 [==============================] - 12s - loss: 2.2644 - acc: 0.2177 - val_loss: 2.4536 - val_acc: 0.1647\n",
      "Epoch 43/100\n",
      "50000/50000 [==============================] - 12s - loss: 2.2504 - acc: 0.2195 - val_loss: 2.4290 - val_acc: 0.1654\n",
      "Epoch 44/100\n",
      "50000/50000 [==============================] - 12s - loss: 2.2311 - acc: 0.2243 - val_loss: 2.5099 - val_acc: 0.1733\n",
      "Epoch 45/100\n",
      "50000/50000 [==============================] - 12s - loss: 2.2160 - acc: 0.2251 - val_loss: 2.4026 - val_acc: 0.1733\n",
      "Epoch 46/100\n",
      "50000/50000 [==============================] - 12s - loss: 2.2018 - acc: 0.2275 - val_loss: 2.2374 - val_acc: 0.1767\n",
      "Epoch 47/100\n",
      "50000/50000 [==============================] - 12s - loss: 2.1822 - acc: 0.2372 - val_loss: 2.4257 - val_acc: 0.1890\n",
      "Epoch 48/100\n",
      "50000/50000 [==============================] - 12s - loss: 2.1669 - acc: 0.2381 - val_loss: 2.4311 - val_acc: 0.1881\n",
      "Epoch 49/100\n",
      "50000/50000 [==============================] - 12s - loss: 2.1531 - acc: 0.2410 - val_loss: 2.2240 - val_acc: 0.2052\n",
      "Epoch 50/100\n",
      "50000/50000 [==============================] - 12s - loss: 2.1433 - acc: 0.2408 - val_loss: 2.2106 - val_acc: 0.2073\n",
      "Epoch 51/100\n",
      "50000/50000 [==============================] - 12s - loss: 2.1260 - acc: 0.2482 - val_loss: 2.1302 - val_acc: 0.2373\n",
      "Epoch 52/100\n",
      "50000/50000 [==============================] - 12s - loss: 2.1093 - acc: 0.2487 - val_loss: 2.2005 - val_acc: 0.2040\n",
      "Epoch 53/100\n",
      "50000/50000 [==============================] - 12s - loss: 2.0923 - acc: 0.2542 - val_loss: 2.2831 - val_acc: 0.1926\n",
      "Epoch 54/100\n",
      "50000/50000 [==============================] - 12s - loss: 2.0848 - acc: 0.2536 - val_loss: 2.2170 - val_acc: 0.2223\n",
      "Epoch 55/100\n",
      "50000/50000 [==============================] - 12s - loss: 2.0661 - acc: 0.2589 - val_loss: 2.2968 - val_acc: 0.2171\n",
      "Epoch 56/100\n",
      "50000/50000 [==============================] - 12s - loss: 2.0581 - acc: 0.2614 - val_loss: 2.3104 - val_acc: 0.2351\n",
      "Epoch 57/100\n",
      "50000/50000 [==============================] - 12s - loss: 2.0433 - acc: 0.2640 - val_loss: 2.2681 - val_acc: 0.1972\n",
      "Epoch 58/100\n",
      "50000/50000 [==============================] - 12s - loss: 2.0336 - acc: 0.2628 - val_loss: 2.3199 - val_acc: 0.2000\n",
      "Epoch 59/100\n",
      "50000/50000 [==============================] - 12s - loss: 2.0179 - acc: 0.2680 - val_loss: 2.2561 - val_acc: 0.2163\n",
      "Epoch 60/100\n",
      "50000/50000 [==============================] - 12s - loss: 2.0090 - acc: 0.2694 - val_loss: 2.2269 - val_acc: 0.2041\n",
      "Epoch 61/100\n",
      "50000/50000 [==============================] - 12s - loss: 1.9989 - acc: 0.2730 - val_loss: 2.1198 - val_acc: 0.2177\n",
      "Epoch 62/100\n",
      "50000/50000 [==============================] - 12s - loss: 1.9860 - acc: 0.2741 - val_loss: 2.0777 - val_acc: 0.2472\n",
      "Epoch 63/100\n",
      "50000/50000 [==============================] - 11s - loss: 1.9719 - acc: 0.2774 - val_loss: 2.3300 - val_acc: 0.1913\n",
      "Epoch 64/100\n",
      "50000/50000 [==============================] - 13s - loss: 1.9637 - acc: 0.2776 - val_loss: 2.2853 - val_acc: 0.2452\n",
      "Epoch 65/100\n",
      "50000/50000 [==============================] - 11s - loss: 1.9523 - acc: 0.2801 - val_loss: 2.1068 - val_acc: 0.2247\n",
      "Epoch 66/100\n",
      "50000/50000 [==============================] - 10s - loss: 1.9405 - acc: 0.2802 - val_loss: 2.0515 - val_acc: 0.2529\n",
      "Epoch 67/100\n",
      "50000/50000 [==============================] - 10s - loss: 1.9280 - acc: 0.2830 - val_loss: 2.1277 - val_acc: 0.2432\n",
      "Epoch 68/100\n",
      "50000/50000 [==============================] - 10s - loss: 1.9170 - acc: 0.2863 - val_loss: 2.0505 - val_acc: 0.2442\n",
      "Epoch 69/100\n",
      "50000/50000 [==============================] - 10s - loss: 1.9083 - acc: 0.2886 - val_loss: 2.0419 - val_acc: 0.2393\n",
      "Epoch 70/100\n",
      "50000/50000 [==============================] - 11s - loss: 1.8887 - acc: 0.2964 - val_loss: 2.1236 - val_acc: 0.2104\n",
      "Epoch 71/100\n",
      "50000/50000 [==============================] - 10s - loss: 1.8818 - acc: 0.2948 - val_loss: 1.9417 - val_acc: 0.2766\n",
      "Epoch 72/100\n",
      "50000/50000 [==============================] - 10s - loss: 1.8705 - acc: 0.2993 - val_loss: 2.0466 - val_acc: 0.2453\n",
      "Epoch 73/100\n",
      "50000/50000 [==============================] - 10s - loss: 1.8586 - acc: 0.3003 - val_loss: 1.9314 - val_acc: 0.2625\n",
      "Epoch 74/100\n",
      "50000/50000 [==============================] - 10s - loss: 1.8458 - acc: 0.3080 - val_loss: 1.9607 - val_acc: 0.2820\n",
      "Epoch 75/100\n",
      "50000/50000 [==============================] - 10s - loss: 1.8322 - acc: 0.3077 - val_loss: 1.8825 - val_acc: 0.2854\n",
      "Epoch 76/100\n",
      "50000/50000 [==============================] - 10s - loss: 1.8266 - acc: 0.3100 - val_loss: 2.0618 - val_acc: 0.2629\n",
      "Epoch 77/100\n",
      "50000/50000 [==============================] - 10s - loss: 1.8235 - acc: 0.3090 - val_loss: 2.1444 - val_acc: 0.2125\n",
      "Epoch 78/100\n",
      "50000/50000 [==============================] - 10s - loss: 1.8040 - acc: 0.3167 - val_loss: 1.9879 - val_acc: 0.2547\n",
      "Epoch 79/100\n",
      "50000/50000 [==============================] - 10s - loss: 1.7945 - acc: 0.3168 - val_loss: 1.8669 - val_acc: 0.2872\n",
      "Epoch 80/100\n",
      "50000/50000 [==============================] - 10s - loss: 1.7866 - acc: 0.3181 - val_loss: 1.9819 - val_acc: 0.2775\n",
      "Epoch 81/100\n",
      "50000/50000 [==============================] - 10s - loss: 1.7811 - acc: 0.3209 - val_loss: 1.8329 - val_acc: 0.2788\n",
      "Epoch 82/100\n",
      "50000/50000 [==============================] - 10s - loss: 1.7637 - acc: 0.3241 - val_loss: 1.8410 - val_acc: 0.3495\n",
      "Epoch 83/100\n",
      "50000/50000 [==============================] - 10s - loss: 1.7627 - acc: 0.3269 - val_loss: 1.8650 - val_acc: 0.2840\n",
      "Epoch 84/100\n",
      "50000/50000 [==============================] - 10s - loss: 1.7683 - acc: 0.3209 - val_loss: 1.7943 - val_acc: 0.2936\n",
      "Epoch 85/100\n",
      "50000/50000 [==============================] - 10s - loss: 1.7487 - acc: 0.3295 - val_loss: 2.1568 - val_acc: 0.2465\n",
      "Epoch 86/100\n",
      "50000/50000 [==============================] - 10s - loss: 1.7353 - acc: 0.3305 - val_loss: 1.8019 - val_acc: 0.2814\n",
      "Epoch 87/100\n",
      "50000/50000 [==============================] - 10s - loss: 1.7246 - acc: 0.3386 - val_loss: 1.7948 - val_acc: 0.3262\n",
      "Epoch 88/100\n",
      "50000/50000 [==============================] - 10s - loss: 1.7171 - acc: 0.3396 - val_loss: 1.9410 - val_acc: 0.2618\n",
      "Epoch 89/100\n",
      "50000/50000 [==============================] - 10s - loss: 1.7089 - acc: 0.3396 - val_loss: 1.7366 - val_acc: 0.3338\n",
      "Epoch 90/100\n",
      "50000/50000 [==============================] - 10s - loss: 1.7170 - acc: 0.3372 - val_loss: 1.7375 - val_acc: 0.3394\n",
      "Epoch 91/100\n",
      "50000/50000 [==============================] - 10s - loss: 1.7060 - acc: 0.3394 - val_loss: 1.7051 - val_acc: 0.3185\n",
      "Epoch 92/100\n",
      "50000/50000 [==============================] - 10s - loss: 1.6934 - acc: 0.3436 - val_loss: 1.7708 - val_acc: 0.3316\n",
      "Epoch 93/100\n",
      "50000/50000 [==============================] - 10s - loss: 1.6867 - acc: 0.3477 - val_loss: 1.7380 - val_acc: 0.3041\n",
      "Epoch 94/100\n",
      "50000/50000 [==============================] - 10s - loss: 1.6940 - acc: 0.3462 - val_loss: 1.7455 - val_acc: 0.2982\n",
      "Epoch 95/100\n",
      "50000/50000 [==============================] - 10s - loss: 1.6695 - acc: 0.3541 - val_loss: 1.9617 - val_acc: 0.2374\n",
      "Epoch 96/100\n",
      "50000/50000 [==============================] - 10s - loss: 1.6772 - acc: 0.3518 - val_loss: 1.8509 - val_acc: 0.3151\n",
      "Epoch 97/100\n",
      "50000/50000 [==============================] - 10s - loss: 1.6373 - acc: 0.3615 - val_loss: 1.9359 - val_acc: 0.3124\n",
      "Epoch 98/100\n",
      "50000/50000 [==============================] - 10s - loss: 1.6625 - acc: 0.3597 - val_loss: 1.7678 - val_acc: 0.3599\n",
      "Epoch 99/100\n",
      "50000/50000 [==============================] - 10s - loss: 1.6603 - acc: 0.3569 - val_loss: 1.5950 - val_acc: 0.3965\n",
      "Epoch 100/100\n",
      "50000/50000 [==============================] - 10s - loss: 1.6531 - acc: 0.3544 - val_loss: 1.6448 - val_acc: 0.3761\n"
     ]
    }
   ],
   "source": [
    "batch_size = 32 #1024 failed\n",
    "keras.optimizers.SGD(lr=0.03/batch_size, momentum=1.0, decay=0., nesterov=False)\n",
    "model.compile(loss='categorical_crossentropy',\n",
    "              optimizer='SGD',\n",
    "              metrics=['accuracy'])\n",
    "training_epochs = 100\n",
    "history = model.fit(datax_sca[0::2], datay[0::2],\n",
    "                    batch_size=batch_size,\n",
    "                    epochs=training_epochs,\n",
    "                    verbose=1,\n",
    "                    validation_data=(datax_sca[1::2], datay[1::2]))"
   ]
  },
  {
   "cell_type": "code",
   "execution_count": 16,
   "metadata": {
    "collapsed": false
   },
   "outputs": [
    {
     "name": "stdout",
     "output_type": "stream",
     "text": [
      "Train on 50000 samples, validate on 50000 samples\n",
      "Epoch 1/100\n",
      "50000/50000 [==============================] - 12s - loss: 1.6202 - acc: 0.3703 - val_loss: 1.5903 - val_acc: 0.3691\n",
      "Epoch 2/100\n",
      "50000/50000 [==============================] - 11s - loss: 1.6460 - acc: 0.3698 - val_loss: 1.9249 - val_acc: 0.3151\n",
      "Epoch 3/100\n",
      "50000/50000 [==============================] - 12s - loss: 1.6379 - acc: 0.3640 - val_loss: 2.4108 - val_acc: 0.2302\n",
      "Epoch 4/100\n",
      "50000/50000 [==============================] - 11s - loss: 1.6118 - acc: 0.3717 - val_loss: 1.5424 - val_acc: 0.3891\n",
      "Epoch 5/100\n",
      "50000/50000 [==============================] - 11s - loss: 1.6293 - acc: 0.3681 - val_loss: 2.1279 - val_acc: 0.2374\n",
      "Epoch 6/100\n",
      "50000/50000 [==============================] - 11s - loss: 1.6092 - acc: 0.3714 - val_loss: 1.4431 - val_acc: 0.3901\n",
      "Epoch 7/100\n",
      "50000/50000 [==============================] - 11s - loss: 1.5971 - acc: 0.3736 - val_loss: 1.6651 - val_acc: 0.3595\n",
      "Epoch 8/100\n",
      "50000/50000 [==============================] - 11s - loss: 1.6138 - acc: 0.3786 - val_loss: 1.5553 - val_acc: 0.3522\n",
      "Epoch 9/100\n",
      "50000/50000 [==============================] - 11s - loss: 1.6107 - acc: 0.3709 - val_loss: 1.5672 - val_acc: 0.3858\n",
      "Epoch 10/100\n",
      "50000/50000 [==============================] - 11s - loss: 1.6000 - acc: 0.3801 - val_loss: 1.9224 - val_acc: 0.2705\n",
      "Epoch 11/100\n",
      "50000/50000 [==============================] - 11s - loss: 1.5656 - acc: 0.3822 - val_loss: 3.0586 - val_acc: 0.1888\n",
      "Epoch 12/100\n",
      "50000/50000 [==============================] - 11s - loss: 1.6068 - acc: 0.3763 - val_loss: 1.5775 - val_acc: 0.3805\n",
      "Epoch 13/100\n",
      "50000/50000 [==============================] - 11s - loss: 1.5787 - acc: 0.3886 - val_loss: 1.5409 - val_acc: 0.4038\n",
      "Epoch 14/100\n",
      "50000/50000 [==============================] - 11s - loss: 1.5878 - acc: 0.3875 - val_loss: 1.5504 - val_acc: 0.4170\n",
      "Epoch 15/100\n",
      "50000/50000 [==============================] - 11s - loss: 1.5776 - acc: 0.3873 - val_loss: 1.9567 - val_acc: 0.3001\n",
      "Epoch 16/100\n",
      "50000/50000 [==============================] - 11s - loss: 1.5532 - acc: 0.3954 - val_loss: 1.5702 - val_acc: 0.3754\n",
      "Epoch 17/100\n",
      "50000/50000 [==============================] - 11s - loss: 1.5777 - acc: 0.3866 - val_loss: 1.4165 - val_acc: 0.4772\n",
      "Epoch 18/100\n",
      "50000/50000 [==============================] - 11s - loss: 1.5550 - acc: 0.3923 - val_loss: 1.4492 - val_acc: 0.4206\n",
      "Epoch 19/100\n",
      "50000/50000 [==============================] - 11s - loss: 1.5657 - acc: 0.3888 - val_loss: 1.3525 - val_acc: 0.4380\n",
      "Epoch 20/100\n",
      "50000/50000 [==============================] - 11s - loss: 1.5704 - acc: 0.3944 - val_loss: 1.5049 - val_acc: 0.3891\n",
      "Epoch 21/100\n",
      "50000/50000 [==============================] - 11s - loss: 1.5476 - acc: 0.3968 - val_loss: 1.8086 - val_acc: 0.3251\n",
      "Epoch 22/100\n",
      "50000/50000 [==============================] - 11s - loss: 1.5344 - acc: 0.4036 - val_loss: 1.3833 - val_acc: 0.4184\n",
      "Epoch 23/100\n",
      "50000/50000 [==============================] - 11s - loss: 1.5505 - acc: 0.4072 - val_loss: 1.4889 - val_acc: 0.4030\n",
      "Epoch 24/100\n",
      "50000/50000 [==============================] - 11s - loss: 1.5187 - acc: 0.4028 - val_loss: 1.4313 - val_acc: 0.4502\n",
      "Epoch 25/100\n",
      "50000/50000 [==============================] - 11s - loss: 1.5449 - acc: 0.4056 - val_loss: 1.5491 - val_acc: 0.3498\n",
      "Epoch 26/100\n",
      "50000/50000 [==============================] - 11s - loss: 1.5332 - acc: 0.4045 - val_loss: 1.3676 - val_acc: 0.4381\n",
      "Epoch 27/100\n",
      "50000/50000 [==============================] - 11s - loss: 1.5020 - acc: 0.4138 - val_loss: 1.3989 - val_acc: 0.4299\n",
      "Epoch 28/100\n",
      "50000/50000 [==============================] - 11s - loss: 1.4885 - acc: 0.4175 - val_loss: 1.8539 - val_acc: 0.2607\n",
      "Epoch 29/100\n",
      "50000/50000 [==============================] - 10s - loss: 1.5163 - acc: 0.4091 - val_loss: 1.3704 - val_acc: 0.4621\n",
      "Epoch 30/100\n",
      "50000/50000 [==============================] - 12s - loss: 1.4792 - acc: 0.4184 - val_loss: 1.4832 - val_acc: 0.4311\n",
      "Epoch 31/100\n",
      "50000/50000 [==============================] - 8s - loss: 1.5138 - acc: 0.4169 - val_loss: 2.4575 - val_acc: 0.2661\n",
      "Epoch 32/100\n",
      "50000/50000 [==============================] - 7s - loss: 1.4753 - acc: 0.4254 - val_loss: 1.6056 - val_acc: 0.4374\n",
      "Epoch 33/100\n",
      "50000/50000 [==============================] - 7s - loss: 1.4895 - acc: 0.4209 - val_loss: 1.4861 - val_acc: 0.3991\n",
      "Epoch 34/100\n",
      "50000/50000 [==============================] - 7s - loss: 1.4776 - acc: 0.4227 - val_loss: 1.3034 - val_acc: 0.4419\n",
      "Epoch 35/100\n",
      "50000/50000 [==============================] - 7s - loss: 1.4945 - acc: 0.4151 - val_loss: 3.4663 - val_acc: 0.1945\n",
      "Epoch 36/100\n",
      "50000/50000 [==============================] - 7s - loss: 1.4732 - acc: 0.4296 - val_loss: 1.4631 - val_acc: 0.4347\n",
      "Epoch 37/100\n",
      "50000/50000 [==============================] - 7s - loss: 1.4691 - acc: 0.4247 - val_loss: 1.2502 - val_acc: 0.4305\n",
      "Epoch 38/100\n",
      "50000/50000 [==============================] - 7s - loss: 1.4717 - acc: 0.4262 - val_loss: 1.4886 - val_acc: 0.4097\n",
      "Epoch 39/100\n",
      "50000/50000 [==============================] - 7s - loss: 1.4356 - acc: 0.4353 - val_loss: 1.8466 - val_acc: 0.3905\n",
      "Epoch 40/100\n",
      "50000/50000 [==============================] - 7s - loss: 1.4337 - acc: 0.4297 - val_loss: 2.5541 - val_acc: 0.3069\n",
      "Epoch 41/100\n",
      "50000/50000 [==============================] - 7s - loss: 1.4436 - acc: 0.4309 - val_loss: 1.5416 - val_acc: 0.3722\n",
      "Epoch 42/100\n",
      "50000/50000 [==============================] - 7s - loss: 1.4546 - acc: 0.4305 - val_loss: 1.2828 - val_acc: 0.4638\n",
      "Epoch 43/100\n",
      "50000/50000 [==============================] - 7s - loss: 1.4287 - acc: 0.4374 - val_loss: 1.2144 - val_acc: 0.5194\n",
      "Epoch 44/100\n",
      "50000/50000 [==============================] - 7s - loss: 1.4232 - acc: 0.4402 - val_loss: 1.3134 - val_acc: 0.4702\n",
      "Epoch 45/100\n",
      "50000/50000 [==============================] - 7s - loss: 1.4356 - acc: 0.4388 - val_loss: 1.4570 - val_acc: 0.4275\n",
      "Epoch 46/100\n",
      "50000/50000 [==============================] - 7s - loss: 1.4222 - acc: 0.4418 - val_loss: 1.2945 - val_acc: 0.4512\n",
      "Epoch 47/100\n",
      "50000/50000 [==============================] - 7s - loss: 1.3817 - acc: 0.4563 - val_loss: 1.2661 - val_acc: 0.4589\n",
      "Epoch 48/100\n",
      "50000/50000 [==============================] - 7s - loss: 1.3987 - acc: 0.4495 - val_loss: 1.6901 - val_acc: 0.3751\n",
      "Epoch 49/100\n",
      "50000/50000 [==============================] - 7s - loss: 1.4136 - acc: 0.4452 - val_loss: 1.3015 - val_acc: 0.4709\n",
      "Epoch 50/100\n",
      "50000/50000 [==============================] - 7s - loss: 1.3484 - acc: 0.4651 - val_loss: 1.2619 - val_acc: 0.4768\n",
      "Epoch 51/100\n",
      "50000/50000 [==============================] - 7s - loss: 1.4070 - acc: 0.4432 - val_loss: 4.8250 - val_acc: 0.1427\n",
      "Epoch 52/100\n",
      "50000/50000 [==============================] - 7s - loss: 1.3958 - acc: 0.4542 - val_loss: 2.0187 - val_acc: 0.3294\n",
      "Epoch 53/100\n",
      "50000/50000 [==============================] - 7s - loss: 1.3818 - acc: 0.4584 - val_loss: 1.2369 - val_acc: 0.4953\n",
      "Epoch 54/100\n",
      "50000/50000 [==============================] - 7s - loss: 1.3873 - acc: 0.4548 - val_loss: 1.2536 - val_acc: 0.4695\n",
      "Epoch 55/100\n",
      "50000/50000 [==============================] - 7s - loss: 1.3683 - acc: 0.4624 - val_loss: 1.5204 - val_acc: 0.4178\n",
      "Epoch 56/100\n",
      "50000/50000 [==============================] - 7s - loss: 1.3853 - acc: 0.4551 - val_loss: 2.2940 - val_acc: 0.3153\n",
      "Epoch 57/100\n",
      "50000/50000 [==============================] - 7s - loss: 1.3651 - acc: 0.4647 - val_loss: 1.4426 - val_acc: 0.4471\n",
      "Epoch 58/100\n",
      "50000/50000 [==============================] - 7s - loss: 1.3742 - acc: 0.4641 - val_loss: 1.3327 - val_acc: 0.4781\n",
      "Epoch 59/100\n",
      "50000/50000 [==============================] - 7s - loss: 1.3269 - acc: 0.4757 - val_loss: 2.2003 - val_acc: 0.3059\n",
      "Epoch 60/100\n",
      "50000/50000 [==============================] - 7s - loss: 1.3569 - acc: 0.4651 - val_loss: 1.1573 - val_acc: 0.5355\n",
      "Epoch 61/100\n",
      "50000/50000 [==============================] - 7s - loss: 1.3088 - acc: 0.4795 - val_loss: 1.3369 - val_acc: 0.4721\n",
      "Epoch 62/100\n",
      "50000/50000 [==============================] - 7s - loss: 1.3470 - acc: 0.4761 - val_loss: 1.2300 - val_acc: 0.4666\n",
      "Epoch 63/100\n",
      "50000/50000 [==============================] - 7s - loss: 1.2966 - acc: 0.4820 - val_loss: 1.7817 - val_acc: 0.3003\n",
      "Epoch 64/100\n",
      "50000/50000 [==============================] - 7s - loss: 1.3265 - acc: 0.4795 - val_loss: 1.7873 - val_acc: 0.3623\n",
      "Epoch 65/100\n",
      "50000/50000 [==============================] - 7s - loss: 1.3062 - acc: 0.4883 - val_loss: 1.1413 - val_acc: 0.5452\n",
      "Epoch 66/100\n",
      "50000/50000 [==============================] - 7s - loss: 1.3228 - acc: 0.4834 - val_loss: 3.9750 - val_acc: 0.1801\n",
      "Epoch 67/100\n",
      "50000/50000 [==============================] - 7s - loss: 1.3320 - acc: 0.4792 - val_loss: 1.2333 - val_acc: 0.4887\n",
      "Epoch 68/100\n",
      "50000/50000 [==============================] - 7s - loss: 1.3037 - acc: 0.4871 - val_loss: 1.1436 - val_acc: 0.5544\n",
      "Epoch 69/100\n",
      "50000/50000 [==============================] - 7s - loss: 1.2927 - acc: 0.5013 - val_loss: 1.3099 - val_acc: 0.4796\n",
      "Epoch 70/100\n",
      "50000/50000 [==============================] - 6s - loss: 1.3326 - acc: 0.4834 - val_loss: 1.4238 - val_acc: 0.4615\n",
      "Epoch 71/100\n",
      "50000/50000 [==============================] - 7s - loss: 1.3005 - acc: 0.5003 - val_loss: 2.4724 - val_acc: 0.3534\n",
      "Epoch 72/100\n",
      "50000/50000 [==============================] - 7s - loss: 1.3002 - acc: 0.4834 - val_loss: 1.3849 - val_acc: 0.4411\n",
      "Epoch 73/100\n",
      "50000/50000 [==============================] - 7s - loss: 1.2572 - acc: 0.5066 - val_loss: 1.0730 - val_acc: 0.5400\n",
      "Epoch 74/100\n",
      "50000/50000 [==============================] - 7s - loss: 1.2629 - acc: 0.5062 - val_loss: 1.3342 - val_acc: 0.4811\n",
      "Epoch 75/100\n",
      "50000/50000 [==============================] - 7s - loss: 1.3065 - acc: 0.4862 - val_loss: 0.9583 - val_acc: 0.6075\n",
      "Epoch 76/100\n",
      "50000/50000 [==============================] - 6s - loss: 1.3196 - acc: 0.4875 - val_loss: 1.1552 - val_acc: 0.5033\n",
      "Epoch 77/100\n",
      "50000/50000 [==============================] - 6s - loss: 1.2437 - acc: 0.5151 - val_loss: 1.3609 - val_acc: 0.5030\n",
      "Epoch 78/100\n",
      "50000/50000 [==============================] - 7s - loss: 1.2157 - acc: 0.5201 - val_loss: 1.6419 - val_acc: 0.4144\n",
      "Epoch 79/100\n",
      "50000/50000 [==============================] - 6s - loss: 1.2624 - acc: 0.5022 - val_loss: 1.2648 - val_acc: 0.5514\n",
      "Epoch 80/100\n",
      "50000/50000 [==============================] - 7s - loss: 1.2436 - acc: 0.5158 - val_loss: 0.9755 - val_acc: 0.6024\n",
      "Epoch 81/100\n",
      "50000/50000 [==============================] - 6s - loss: 1.2360 - acc: 0.5151 - val_loss: 1.1156 - val_acc: 0.5278\n",
      "Epoch 82/100\n",
      "50000/50000 [==============================] - 6s - loss: 1.2760 - acc: 0.5031 - val_loss: 2.1601 - val_acc: 0.3141\n",
      "Epoch 83/100\n",
      "50000/50000 [==============================] - 7s - loss: 1.2304 - acc: 0.5108 - val_loss: 1.5602 - val_acc: 0.4309\n",
      "Epoch 84/100\n",
      "50000/50000 [==============================] - 6s - loss: 1.2402 - acc: 0.5106 - val_loss: 2.7357 - val_acc: 0.3271\n",
      "Epoch 85/100\n",
      "50000/50000 [==============================] - 6s - loss: 1.1900 - acc: 0.5378 - val_loss: 1.4820 - val_acc: 0.3776\n",
      "Epoch 86/100\n",
      "50000/50000 [==============================] - 6s - loss: 1.2069 - acc: 0.5297 - val_loss: 1.5207 - val_acc: 0.4742\n",
      "Epoch 87/100\n",
      "50000/50000 [==============================] - 6s - loss: 1.2025 - acc: 0.5312 - val_loss: 1.6224 - val_acc: 0.4165\n",
      "Epoch 88/100\n",
      "50000/50000 [==============================] - 7s - loss: 1.2329 - acc: 0.5218 - val_loss: 1.1724 - val_acc: 0.5090\n",
      "Epoch 89/100\n",
      "50000/50000 [==============================] - 6s - loss: 1.1820 - acc: 0.5389 - val_loss: 1.0081 - val_acc: 0.5733\n",
      "Epoch 90/100\n",
      "50000/50000 [==============================] - 6s - loss: 1.2682 - acc: 0.5123 - val_loss: 1.9823 - val_acc: 0.3143\n",
      "Epoch 91/100\n",
      "50000/50000 [==============================] - 6s - loss: 1.1797 - acc: 0.5368 - val_loss: 1.5351 - val_acc: 0.3676\n",
      "Epoch 92/100\n",
      "50000/50000 [==============================] - 6s - loss: 1.2193 - acc: 0.5306 - val_loss: 1.1190 - val_acc: 0.5404\n",
      "Epoch 93/100\n",
      "50000/50000 [==============================] - 6s - loss: 1.1430 - acc: 0.5530 - val_loss: 1.2430 - val_acc: 0.4637\n",
      "Epoch 94/100\n",
      "50000/50000 [==============================] - 6s - loss: 1.2455 - acc: 0.5255 - val_loss: 0.9657 - val_acc: 0.5981\n",
      "Epoch 95/100\n",
      "50000/50000 [==============================] - 7s - loss: 1.1325 - acc: 0.5631 - val_loss: 1.6596 - val_acc: 0.4014\n",
      "Epoch 96/100\n",
      "50000/50000 [==============================] - 6s - loss: 1.1961 - acc: 0.5438 - val_loss: 2.3392 - val_acc: 0.3454\n",
      "Epoch 97/100\n",
      "50000/50000 [==============================] - 6s - loss: 1.1570 - acc: 0.5552 - val_loss: 0.8506 - val_acc: 0.6885\n",
      "Epoch 98/100\n",
      "50000/50000 [==============================] - 6s - loss: 1.1757 - acc: 0.5501 - val_loss: 1.0017 - val_acc: 0.5767\n",
      "Epoch 99/100\n",
      "50000/50000 [==============================] - 7s - loss: 1.1453 - acc: 0.5713 - val_loss: 0.9088 - val_acc: 0.6179\n",
      "Epoch 100/100\n",
      "50000/50000 [==============================] - 6s - loss: 1.1813 - acc: 0.5521 - val_loss: 1.6618 - val_acc: 0.4334\n"
     ]
    }
   ],
   "source": [
    "batch_size = 32 #1024 failed\n",
    "keras.optimizers.SGD(lr=0.01/batch_size, momentum=1.0, decay=0., nesterov=False)\n",
    "model.compile(loss='categorical_crossentropy',\n",
    "              optimizer='SGD',\n",
    "              metrics=['accuracy'])\n",
    "training_epochs = 100\n",
    "history2 = model.fit(datax_sca[0::2], datay[0::2],\n",
    "                    batch_size=batch_size,\n",
    "                    epochs=training_epochs,\n",
    "                    verbose=1,\n",
    "                    validation_data=(datax_sca[1::2], datay[1::2]))"
   ]
  },
  {
   "cell_type": "code",
   "execution_count": 1,
   "metadata": {
    "collapsed": false
   },
   "outputs": [
    {
     "ename": "NameError",
     "evalue": "name 'keras' is not defined",
     "output_type": "error",
     "traceback": [
      "\u001b[0;31m---------------------------------------------------------------------------\u001b[0m",
      "\u001b[0;31mNameError\u001b[0m                                 Traceback (most recent call last)",
      "\u001b[0;32m<ipython-input-1-7061c1be2c66>\u001b[0m in \u001b[0;36m<module>\u001b[0;34m()\u001b[0m\n\u001b[1;32m      1\u001b[0m \u001b[0mbatch_size\u001b[0m \u001b[0;34m=\u001b[0m \u001b[0;36m32\u001b[0m \u001b[0;31m#1024 failed\u001b[0m\u001b[0;34m\u001b[0m\u001b[0m\n\u001b[0;32m----> 2\u001b[0;31m \u001b[0mkeras\u001b[0m\u001b[0;34m.\u001b[0m\u001b[0moptimizers\u001b[0m\u001b[0;34m.\u001b[0m\u001b[0mSGD\u001b[0m\u001b[0;34m(\u001b[0m\u001b[0mlr\u001b[0m\u001b[0;34m=\u001b[0m\u001b[0;36m0.003\u001b[0m\u001b[0;34m/\u001b[0m\u001b[0mbatch_size\u001b[0m\u001b[0;34m,\u001b[0m \u001b[0mmomentum\u001b[0m\u001b[0;34m=\u001b[0m\u001b[0;36m1.0\u001b[0m\u001b[0;34m,\u001b[0m \u001b[0mdecay\u001b[0m\u001b[0;34m=\u001b[0m\u001b[0;36m0.\u001b[0m\u001b[0;34m,\u001b[0m \u001b[0mnesterov\u001b[0m\u001b[0;34m=\u001b[0m\u001b[0mFalse\u001b[0m\u001b[0;34m)\u001b[0m\u001b[0;34m\u001b[0m\u001b[0m\n\u001b[0m\u001b[1;32m      3\u001b[0m model.compile(loss='categorical_crossentropy',\n\u001b[1;32m      4\u001b[0m               \u001b[0moptimizer\u001b[0m\u001b[0;34m=\u001b[0m\u001b[0;34m'SGD'\u001b[0m\u001b[0;34m,\u001b[0m\u001b[0;34m\u001b[0m\u001b[0m\n\u001b[1;32m      5\u001b[0m               metrics=['accuracy'])\n",
      "\u001b[0;31mNameError\u001b[0m: name 'keras' is not defined"
     ]
    }
   ],
   "source": [
    "batch_size = 32 #1024 failed\n",
    "keras.optimizers.SGD(lr=0.003/batch_size, momentum=1.0, decay=0., nesterov=False)\n",
    "model.compile(loss='categorical_crossentropy',\n",
    "              optimizer='SGD',\n",
    "              metrics=['accuracy'])\n",
    "training_epochs = 100\n",
    "history = model.fit(datax_sca[0::2], datay[0::2],\n",
    "                    batch_size=batch_size,\n",
    "                    epochs=training_epochs,\n",
    "                    verbose=1,\n",
    "                    validation_data=(datax_sca[1::2], datay[1::2]))"
   ]
  }
 ],
 "metadata": {
  "anaconda-cloud": {},
  "kernelspec": {
   "display_name": "Python [conda env:tensorflow]",
   "language": "python",
   "name": "conda-env-tensorflow-py"
  },
  "language_info": {
   "codemirror_mode": {
    "name": "ipython",
    "version": 2
   },
   "file_extension": ".py",
   "mimetype": "text/x-python",
   "name": "python",
   "nbconvert_exporter": "python",
   "pygments_lexer": "ipython2",
   "version": "2.7.13"
  }
 },
 "nbformat": 4,
 "nbformat_minor": 1
}
