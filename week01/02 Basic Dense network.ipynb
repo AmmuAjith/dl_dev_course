{
 "cells": [
  {
   "cell_type": "markdown",
   "metadata": {
    "deletable": true,
    "editable": true
   },
   "source": [
    "# Basic Keras Dense Network"
   ]
  },
  {
   "cell_type": "code",
   "execution_count": 1,
   "metadata": {
    "collapsed": false,
    "deletable": true,
    "editable": true
   },
   "outputs": [
    {
     "name": "stderr",
     "output_type": "stream",
     "text": [
      "/home/leexa/anaconda2/envs/tensorflow/lib/python2.7/site-packages/matplotlib/font_manager.py:280: UserWarning: Matplotlib is building the font cache using fc-list. This may take a moment.\n",
      "  'Matplotlib is building the font cache using fc-list. '\n",
      "Using TensorFlow backend.\n"
     ]
    }
   ],
   "source": [
    "%matplotlib inline\n",
    "import matplotlib.pyplot as plt\n",
    "\n",
    "import keras\n",
    "from keras.models import Model, Sequential\n",
    "from keras.layers import *\n",
    "from keras.optimizers import Adam\n",
    "\n",
    "import tensorflow as tf\n",
    "import numpy as np"
   ]
  },
  {
   "cell_type": "code",
   "execution_count": 2,
   "metadata": {
    "collapsed": false,
    "deletable": true,
    "editable": true
   },
   "outputs": [
    {
     "name": "stdout",
     "output_type": "stream",
     "text": [
      "2.0.8\n",
      "1.3.0\n"
     ]
    }
   ],
   "source": [
    "print(keras.__version__)\n",
    "print(tf.__version__)"
   ]
  },
  {
   "cell_type": "markdown",
   "metadata": {
    "deletable": true,
    "editable": true
   },
   "source": [
    "### Lets import our dataset"
   ]
  },
  {
   "cell_type": "code",
   "execution_count": 3,
   "metadata": {
    "collapsed": true,
    "deletable": true,
    "editable": true
   },
   "outputs": [],
   "source": [
    "def load_mnist(path, kind='train'):\n",
    "    import os\n",
    "    import struct\n",
    "    import gzip\n",
    "    import numpy as np\n",
    "\n",
    "    \"\"\"Load MNIST data from `path`\"\"\"\n",
    "    labels_path = os.path.join(path,\n",
    "                               '%s-labels-idx1-ubyte.gz'\n",
    "                               % kind)\n",
    "    images_path = os.path.join(path,\n",
    "                               '%s-images-idx3-ubyte.gz'\n",
    "                               % kind)\n",
    "\n",
    "    with gzip.open(labels_path, 'rb') as lbpath:\n",
    "        struct.unpack('>II', lbpath.read(8))\n",
    "        labels = np.frombuffer(lbpath.read(), dtype=np.uint8)\n",
    "\n",
    "    with gzip.open(images_path, 'rb') as imgpath:\n",
    "        struct.unpack(\">IIII\", imgpath.read(16))\n",
    "        images = np.frombuffer(imgpath.read(), dtype=np.uint8).reshape(len(labels), 784)\n",
    "\n",
    "    return images, labels"
   ]
  },
  {
   "cell_type": "code",
   "execution_count": 4,
   "metadata": {
    "collapsed": true,
    "deletable": true,
    "editable": true
   },
   "outputs": [],
   "source": [
    "path = './data/fashion/'\n",
    "\n",
    "x_train, y_train = load_mnist(path, kind='train')\n",
    "x_test, y_test = load_mnist(path, kind='t10k')"
   ]
  },
  {
   "cell_type": "code",
   "execution_count": 5,
   "metadata": {
    "collapsed": false,
    "deletable": true,
    "editable": true
   },
   "outputs": [
    {
     "name": "stdout",
     "output_type": "stream",
     "text": [
      "(60000, 784)\n",
      "(60000,)\n",
      "(10000, 784)\n",
      "(10000,)\n"
     ]
    }
   ],
   "source": [
    "print(x_train.shape)\n",
    "print(y_train.shape)\n",
    "print(x_test.shape)\n",
    "print(y_test.shape)"
   ]
  },
  {
   "cell_type": "code",
   "execution_count": 6,
   "metadata": {
    "collapsed": false,
    "deletable": true,
    "editable": true
   },
   "outputs": [
    {
     "data": {
      "text/plain": [
       "array([  0,   0,   0,   0,   0,   0,   0,   0,   0,   0,   0,   0,   0,\n",
       "         0,   0,   0,   0,   0,   0,   0,   0,   0,   0,   0,   0,   0,\n",
       "         0,   0,   0,   0,   0,   0,   0,   0,   0,   0,   0,   0,   0,\n",
       "         0,   0,   0,   0,   0,   0,   0,   0,   0,   0,   0,   0,   0,\n",
       "         0,   0,   0,   0,   0,   0,   0,   0,   0,   0,   0,   0,   0,\n",
       "         0,   0,   0,   0,   0,   0,   0,   0,   0,   0,   0,   0,   0,\n",
       "         0,   0,   0,   0,   0,   0,   0,   0,   0,   0,   4,   0,   0,\n",
       "         0,   0,   0,  62,  61,  21,  29,  23,  51, 136,  61,   0,   0,\n",
       "         0,   0,   0,   0,   0,   0,   0,   0,   0,   0,   0,   0,   0,\n",
       "         0,   0,  88, 201, 228, 225, 255, 115,  62, 137, 255, 235, 222,\n",
       "       255, 135,   0,   0,   0,   0,   0,   0,   0,   0,   0,   0,   0,\n",
       "         0,   0,  47, 252, 234, 238, 224, 215, 215, 229, 108, 180, 207,\n",
       "       214, 224, 231, 249, 254,  45,   0,   0,   0,   0,   0,   0,   0,\n",
       "         0,   1,   0,   0, 214, 222, 210, 213, 224, 225, 217, 220, 254,\n",
       "       233, 219, 221, 217, 223, 221, 240, 254,   0,   0,   1,   0,   0,\n",
       "         0,   1,   0,   0,   0, 128, 237, 207, 224, 224, 207, 216, 214,\n",
       "       210, 208, 211, 221, 208, 219, 213, 226, 211, 237, 150,   0,   0,\n",
       "         0,   0,   0,   0,   2,   0,   0, 237, 222, 215, 207, 210, 212,\n",
       "       213, 206, 214, 213, 214, 213, 210, 215, 214, 206, 199, 218, 255,\n",
       "        13,   0,   2,   0,   0,   0,   4,   0,  85, 228, 210, 218, 200,\n",
       "       211, 208, 203, 215, 210, 209, 209, 210, 213, 211, 210, 217, 206,\n",
       "       213, 231, 175,   0,   0,   0,   0,   0,   0,   0, 217, 224, 215,\n",
       "       206, 205, 204, 217, 230, 222, 215, 224, 233, 228, 232, 228, 224,\n",
       "       207, 212, 215, 213, 229,  31,   0,   4,   0,   1,   0,  21, 225,\n",
       "       212, 212, 203, 211, 225, 193, 139, 136, 195, 147, 156, 139, 128,\n",
       "       162, 197, 223, 207, 220, 213, 232, 177,   0,   0,   0,   0,   0,\n",
       "       123, 226, 207, 211, 209, 205, 228, 158,  90, 103, 186, 138, 100,\n",
       "       121, 147, 158, 183, 226, 208, 214, 209, 216, 255,  13,   0,   1,\n",
       "         0,   0, 226, 219, 202, 208, 206, 205, 216, 184, 156, 150, 193,\n",
       "       170, 164, 168, 188, 186, 200, 219, 216, 213, 213, 211, 233, 148,\n",
       "         0,   0,   0,  45, 227, 204, 214, 211, 218, 222, 221, 230, 229,\n",
       "       221, 213, 224, 233, 226, 220, 219, 221, 224, 223, 217, 210, 218,\n",
       "       213, 254,   0,   0,   0, 157, 226, 203, 207, 211, 209, 215, 205,\n",
       "       198, 207, 208, 201, 201, 197, 203, 205, 210, 207, 213, 214, 214,\n",
       "       214, 213, 208, 234, 107,   0,   0, 235, 213, 204, 211, 210, 209,\n",
       "       213, 202, 197, 204, 215, 217, 213, 212, 210, 206, 212, 203, 211,\n",
       "       218, 215, 214, 208, 209, 222, 230,   0,  52, 255, 207, 200, 208,\n",
       "       213, 210, 210, 208, 207, 202, 201, 209, 216, 216, 216, 216, 214,\n",
       "       212, 205, 215, 201, 228, 208, 214, 212, 218,  25, 118, 217, 201,\n",
       "       206, 208, 213, 208, 205, 206, 210, 211, 202, 199, 207, 208, 209,\n",
       "       210, 207, 210, 210, 245, 139, 119, 255, 202, 203, 236, 114, 171,\n",
       "       238, 212, 203, 220, 216, 217, 209, 207, 205, 210, 211, 206, 204,\n",
       "       206, 209, 211, 215, 210, 206, 221, 242,   0, 224, 234, 230, 181,\n",
       "        26,  39, 145, 201, 255, 157, 115, 250, 200, 207, 206, 207, 213,\n",
       "       216, 206, 205, 206, 207, 206, 215, 207, 221, 238,   0,   0, 188,\n",
       "        85,   0,   0,   0,   0,   0,  31,   0, 129, 253, 190, 207, 208,\n",
       "       208, 208, 209, 211, 211, 209, 209, 209, 212, 201, 226, 165,   0,\n",
       "         0,   0,   0,   0,   0,   2,   0,   0,   0,   0,  89, 254, 199,\n",
       "       199, 192, 196, 198, 199, 201, 202, 203, 204, 203, 203, 200, 222,\n",
       "       155,   0,   3,   3,   3,   2,   0,   0,   0,   1,   5,   0,   0,\n",
       "       255, 218, 226, 232, 228, 224, 222, 220, 219, 219, 217, 221, 220,\n",
       "       212, 236,  95,   0,   2,   0,   0,   0,   0,   0,   0,   0,   0,\n",
       "         0,   0, 155, 194, 168, 170, 171, 173, 173, 179, 177, 175, 172,\n",
       "       171, 167, 161, 180,   0,   0,   1,   0,   1,   0,   0,   0,   0,\n",
       "         0,   0,   0,   0,   0,   0,   0,   0,   0,   0,   0,   0,   0,\n",
       "         0,   0,   0,   0,   0,   0,   0,   0,   0,   0,   0,   0,   0,\n",
       "         0,   0,   0,   0,   0,   0,   0,   0,   0,   0,   0,   0,   0,\n",
       "         0,   0,   0,   0,   0,   0,   0,   0,   0,   0,   0,   0,   0,\n",
       "         0,   0,   0,   0,   0,   0,   0,   0,   0,   0,   0,   0,   0,\n",
       "         0,   0,   0,   0,   0,   0,   0,   0,   0,   0,   0,   0,   0,\n",
       "         0,   0,   0,   0], dtype=uint8)"
      ]
     },
     "execution_count": 6,
     "metadata": {},
     "output_type": "execute_result"
    }
   ],
   "source": [
    "#examine what the first image looks like\n",
    "x_train[0]"
   ]
  },
  {
   "cell_type": "code",
   "execution_count": 7,
   "metadata": {
    "collapsed": false,
    "deletable": true,
    "editable": true
   },
   "outputs": [
    {
     "data": {
      "text/plain": [
       "2"
      ]
     },
     "execution_count": 7,
     "metadata": {},
     "output_type": "execute_result"
    }
   ],
   "source": [
    "y_train[0]"
   ]
  },
  {
   "cell_type": "markdown",
   "metadata": {
    "deletable": true,
    "editable": true
   },
   "source": [
    "# What is a Tensor\n",
    "\n",
    "\n",
    "<img src=\"./diagram5g.png\" style=\"width:800px;\">\n",
    "\n",
    "multi dimensional array/matrix"
   ]
  },
  {
   "cell_type": "markdown",
   "metadata": {
    "deletable": true,
    "editable": true
   },
   "source": [
    "### MNIST Image Tensor X_train\n",
    "\n",
    "<img src=\"./diagram4f.png\" style=\"width:550px;\">\n",
    "<img src=\"./diagram6d.png\" style=\"width:550px;\">"
   ]
  },
  {
   "cell_type": "markdown",
   "metadata": {
    "deletable": true,
    "editable": true
   },
   "source": [
    "## Preparing the data for a basic network"
   ]
  },
  {
   "cell_type": "code",
   "execution_count": 8,
   "metadata": {
    "collapsed": false,
    "deletable": true,
    "editable": true
   },
   "outputs": [
    {
     "name": "stdout",
     "output_type": "stream",
     "text": [
      "((60000, 784), 'train samples')\n",
      "((10000, 784), 'test samples')\n"
     ]
    }
   ],
   "source": [
    "\n",
    "x_train = x_train.reshape(60000, 784)\n",
    "x_test = x_test.reshape(10000, 784)\n",
    "x_train = x_train.astype('float32')\n",
    "x_test = x_test.astype('float32')\n",
    "x_train /= 255\n",
    "x_test /= 255\n",
    "print(x_train.shape, 'train samples')\n",
    "print(x_test.shape, 'test samples')"
   ]
  },
  {
   "cell_type": "code",
   "execution_count": 9,
   "metadata": {
    "collapsed": false,
    "deletable": true,
    "editable": true
   },
   "outputs": [
    {
     "data": {
      "text/plain": [
       "array([ 0.,  0.,  1.,  0.,  0.,  0.,  0.,  0.,  0.,  0.])"
      ]
     },
     "execution_count": 9,
     "metadata": {},
     "output_type": "execute_result"
    }
   ],
   "source": [
    "n_classes = 10\n",
    "# convert class vectors to binary One Hot Encoded\n",
    "y_train = keras.utils.to_categorical(y_train, n_classes)\n",
    "y_test = keras.utils.to_categorical(y_test, n_classes)\n",
    "y_train[0]"
   ]
  },
  {
   "cell_type": "code",
   "execution_count": 10,
   "metadata": {
    "collapsed": false,
    "deletable": true,
    "editable": true
   },
   "outputs": [
    {
     "data": {
      "image/png": "[encoded data removed]",
      "text/plain": [
       "<matplotlib.figure.Figure at 0x7f8b6c880710>"
      ]
     },
     "metadata": {},
     "output_type": "display_data"
    },
    {
     "data": {
      "image/png": "[encoded data removed]",
      "text/plain": [
       "<matplotlib.figure.Figure at 0x7f8b6a9e7550>"
      ]
     },
     "metadata": {},
     "output_type": "display_data"
    },
    {
     "data": {
      "image/png": "[encoded data removed]",
      "text/plain": [
       "<matplotlib.figure.Figure at 0x7f8b6a9e7f50>"
      ]
     },
     "metadata": {},
     "output_type": "display_data"
    }
   ],
   "source": [
    "# Method for displaying the number as a picture\n",
    "\n",
    "def show_digit(index):\n",
    "    label = y_train[index].argmax(axis=0)\n",
    "    # Reshape 784 array into 28x28 image\n",
    "    image = x_train[index].reshape([28,28])\n",
    "    fig, axes = plt.subplots(1, )\n",
    "    fig.subplots_adjust(hspace=0.5, wspace=0.5)\n",
    "    plt.title('Training data, index: %d,  Label: %d' % (index, label))\n",
    "    plt.imshow(image, cmap='gray_r')\n",
    "    plt.show()\n",
    "    \n",
    "def show_predicted_digit(image, pred, label):\n",
    "    # Reshape 784 array into 28x28 image\n",
    "    image = image.reshape([28,28])\n",
    "    plt.title('Original Image, Pred: %d,  True Label: %d' %(pred, label))\n",
    "    plt.imshow(image, cmap='gray_r')\n",
    "    plt.show()\n",
    "    \n",
    "# Display the first (index 0) training image\n",
    "show_digit(1)\n",
    "show_digit(2)\n",
    "show_digit(3)"
   ]
  },
  {
   "cell_type": "code",
   "execution_count": 11,
   "metadata": {
    "collapsed": false,
    "deletable": true,
    "editable": true
   },
   "outputs": [
    {
     "data": {
      "image/png": "[encoded data removed]",
      "text/plain": [
       "<matplotlib.figure.Figure at 0x7f8b6c87c190>"
      ]
     },
     "metadata": {},
     "output_type": "display_data"
    },
    {
     "data": {
      "image/png": "[encoded data removed]",
      "text/plain": [
       "<matplotlib.figure.Figure at 0x7f8b687648d0>"
      ]
     },
     "metadata": {},
     "output_type": "display_data"
    },
    {
     "data": {
      "image/png": "[encoded data removed]",
      "text/plain": [
       "<matplotlib.figure.Figure at 0x7f8b68746f10>"
      ]
     },
     "metadata": {},
     "output_type": "display_data"
    }
   ],
   "source": [
    "# Display the first (index 0) training image\n",
    "show_digit(12)\n",
    "show_digit(22)\n",
    "show_digit(32)"
   ]
  },
  {
   "cell_type": "markdown",
   "metadata": {
    "deletable": true,
    "editable": true
   },
   "source": [
    "### Setting up our Network Hyper Parameters"
   ]
  },
  {
   "cell_type": "code",
   "execution_count": 12,
   "metadata": {
    "collapsed": true,
    "deletable": true,
    "editable": true
   },
   "outputs": [],
   "source": [
    "# Training Parameters for basic MNIST\n",
    "learning_rate = 0.1 \n",
    "training_epochs = 2\n",
    "batch_size = 100\n",
    "\n",
    "# Network Parameters\n",
    "n_input = 784 # MNIST data input (img shape: 28*28 flattened to be 784)\n",
    "n_hidden_1 = 384 # 1st layer number of neurons\n",
    "n_hidden_2 = 100 # 2nd layer number of neurons\n",
    "n_classes = 10 # MNIST classes for prediction(digits 0-9 )"
   ]
  },
  {
   "cell_type": "markdown",
   "metadata": {
    "deletable": true,
    "editable": true
   },
   "source": [
    "### Lets build our first sequential network\n",
    "\n",
    "We start out by defining our model as a sequential one  \n",
    "\n",
    "Then we add 2 Dense layers  \n",
    "In each Dense layer we have to define the number of hidden units/neurons for that layer  \n",
    "We can also add a name to each layer so that we can see it easily in our summary and later in Tensorboard\n"
   ]
  },
  {
   "cell_type": "code",
   "execution_count": 13,
   "metadata": {
    "collapsed": true,
    "deletable": true,
    "editable": true
   },
   "outputs": [],
   "source": [
    "model = Sequential() # step by step adding\n",
    "model.add(Dense(n_hidden_1,  input_shape=(n_input,), name = \"Dense_1\"))\n",
    "model.add(Activation('relu', name = \"Relu1\"))\n",
    "model.add(Dense(n_hidden_2, name = \"Dense_2\"))\n",
    "model.add(Activation('relu', name = \"Relu2\"))\n",
    "model.add(Dense(n_classes, name = \"Output\"))\n",
    "model.add(Activation('softmax', name = \"Softmax_output\"))"
   ]
  },
  {
   "cell_type": "code",
   "execution_count": null,
   "metadata": {
    "collapsed": false
   },
   "outputs": [],
   "source": [
    "784* 384 + 384\n"
   ]
  },
  {
   "cell_type": "code",
   "execution_count": 14,
   "metadata": {
    "collapsed": false,
    "deletable": true,
    "editable": true
   },
   "outputs": [
    {
     "name": "stdout",
     "output_type": "stream",
     "text": [
      "_________________________________________________________________\n",
      "Layer (type)                 Output Shape              Param #   \n",
      "=================================================================\n",
      "Dense_1 (Dense)              (None, 384)               301440    \n",
      "_________________________________________________________________\n",
      "Relu1 (Activation)           (None, 384)               0         \n",
      "_________________________________________________________________\n",
      "Dense_2 (Dense)              (None, 100)               38500     \n",
      "_________________________________________________________________\n",
      "Relu2 (Activation)           (None, 100)               0         \n",
      "_________________________________________________________________\n",
      "Output (Dense)               (None, 10)                1010      \n",
      "_________________________________________________________________\n",
      "Softmax_output (Activation)  (None, 10)                0         \n",
      "=================================================================\n",
      "Total params: 340,950\n",
      "Trainable params: 340,950\n",
      "Non-trainable params: 0\n",
      "_________________________________________________________________\n"
     ]
    }
   ],
   "source": [
    "model.summary()"
   ]
  },
  {
   "cell_type": "markdown",
   "metadata": {
    "deletable": true,
    "editable": true
   },
   "source": [
    "### Lets calculate the the parameters\n",
    "\n",
    "layer 1 = (384 units * 784 weights) + (384 units * 1 bias)  = 301,440  \n",
    "\n",
    "layer 2 = (100 units * 384 weights) + (100 units * 1 bias)  = 38,500  \n",
    "\n",
    "layer 3 = (10 units * 100) +(10 units * bias)\n",
    "\n"
   ]
  },
  {
   "cell_type": "code",
   "execution_count": 15,
   "metadata": {
    "collapsed": true,
    "deletable": true,
    "editable": true
   },
   "outputs": [],
   "source": [
    "model.compile(loss='categorical_crossentropy',\n",
    "              optimizer='SGD',\n",
    "              metrics=['accuracy'])"
   ]
  },
  {
   "cell_type": "code",
   "execution_count": 16,
   "metadata": {
    "collapsed": false,
    "deletable": true,
    "editable": true,
    "scrolled": true
   },
   "outputs": [
    {
     "name": "stdout",
     "output_type": "stream",
     "text": [
      "Train on 60000 samples, validate on 10000 samples\n",
      "Epoch 1/2\n",
      "60000/60000 [==============================] - 5s - loss: 0.9514 - acc: 0.7010 - val_loss: 0.6585 - val_acc: 0.7819\n",
      "Epoch 2/2\n",
      "60000/60000 [==============================] - 5s - loss: 0.5953 - acc: 0.8016 - val_loss: 0.5568 - val_acc: 0.8145\n"
     ]
    }
   ],
   "source": [
    "history = model.fit(x_train, y_train,\n",
    "                    batch_size=batch_size,\n",
    "                    epochs=training_epochs,\n",
    "                    verbose=1,\n",
    "                    validation_data=(x_test, y_test))"
   ]
  },
  {
   "cell_type": "code",
   "execution_count": null,
   "metadata": {
    "collapsed": true,
    "deletable": true,
    "editable": true
   },
   "outputs": [],
   "source": []
  },
  {
   "cell_type": "code",
   "execution_count": null,
   "metadata": {
    "collapsed": true,
    "deletable": true,
    "editable": true
   },
   "outputs": [],
   "source": []
  },
  {
   "cell_type": "markdown",
   "metadata": {
    "deletable": true,
    "editable": true
   },
   "source": [
    "### Making the model simpler in a simpler way\n",
    "\n",
    "Often when we write out Layer we put the activation functions in the Layer itself rather than on its own"
   ]
  },
  {
   "cell_type": "code",
   "execution_count": null,
   "metadata": {
    "collapsed": true,
    "deletable": true,
    "editable": true
   },
   "outputs": [],
   "source": [
    "model = Sequential()\n",
    "model.add(Dense(n_hidden_1, activation='relu',  input_shape=(n_input,), name = \"Dense_1\"))\n",
    "model.add(Dense(n_hidden_2, activation='relu', name = \"Dense_2\"))\n",
    "model.add(Dense(10, activation='softmax'))"
   ]
  },
  {
   "cell_type": "code",
   "execution_count": null,
   "metadata": {
    "collapsed": true,
    "deletable": true,
    "editable": true
   },
   "outputs": [],
   "source": [
    "model.compile(loss='categorical_crossentropy',\n",
    "              optimizer='SGD',\n",
    "              metrics=['accuracy'])"
   ]
  },
  {
   "cell_type": "code",
   "execution_count": null,
   "metadata": {
    "collapsed": false,
    "deletable": true,
    "editable": true
   },
   "outputs": [],
   "source": [
    "history = model.fit(x_train, y_train,\n",
    "                    batch_size=batch_size,\n",
    "                    epochs=3*training_epochs,\n",
    "                    verbose=1, # This is for what we want it to display out as it trains \n",
    "                    validation_data=(x_test, y_test))"
   ]
  },
  {
   "cell_type": "code",
   "execution_count": null,
   "metadata": {
    "collapsed": false
   },
   "outputs": [],
   "source": [
    "model.fit()"
   ]
  },
  {
   "cell_type": "code",
   "execution_count": null,
   "metadata": {
    "collapsed": false,
    "deletable": true,
    "editable": true
   },
   "outputs": [],
   "source": [
    "score = model.evaluate(x_test, y_test, verbose=0)\n",
    "print('Test loss:', score[0])\n",
    "print('Test accuracy:', score[1])"
   ]
  },
  {
   "cell_type": "markdown",
   "metadata": {
    "collapsed": true,
    "deletable": true,
    "editable": true
   },
   "source": [
    "## Now your turn\n",
    "\n",
    "I want you to build a Sequential model "
   ]
  },
  {
   "cell_type": "code",
   "execution_count": null,
   "metadata": {
    "collapsed": true,
    "deletable": true,
    "editable": true
   },
   "outputs": [],
   "source": [
    "# Network Parameters\n",
    "n_input =  784# MNIST data input (img shape: 28*28 flattened to be 784)\n",
    "n_hidden_1 = 100 # 1st layer number of neurons\n",
    "n_hidden_2 = 100 # 2nd layer number of neurons\n",
    "n_hidden_3 = 100 # 2nd layer number of neurons\n",
    "n_hidden_4 = 100 # 2nd layer number of neurons\n",
    "n_classes =  10# MNIST classes for prediction(digits 0-9 )"
   ]
  },
  {
   "cell_type": "code",
   "execution_count": null,
   "metadata": {
    "collapsed": true,
    "deletable": true,
    "editable": true
   },
   "outputs": [],
   "source": [
    "# Build your model here\n",
    "\n",
    "\n",
    "\n",
    "\n",
    "\n"
   ]
  },
  {
   "cell_type": "code",
   "execution_count": null,
   "metadata": {
    "collapsed": false,
    "deletable": true,
    "editable": true
   },
   "outputs": [],
   "source": [
    "#execute this cell to get the solution\n",
    "%load ./solutions/sol1a.py"
   ]
  },
  {
   "cell_type": "code",
   "execution_count": null,
   "metadata": {
    "collapsed": true,
    "deletable": true,
    "editable": true
   },
   "outputs": [],
   "source": [
    "#now compile your model\n"
   ]
  },
  {
   "cell_type": "code",
   "execution_count": null,
   "metadata": {
    "collapsed": true,
    "deletable": true,
    "editable": true
   },
   "outputs": [],
   "source": [
    "#test to see that it worked\n",
    "model.summary()"
   ]
  },
  {
   "cell_type": "code",
   "execution_count": null,
   "metadata": {
    "collapsed": true,
    "deletable": true,
    "editable": true
   },
   "outputs": [],
   "source": [
    "learning_rate = 0.1 \n",
    "training_epochs = 2\n",
    "batch_size = 100"
   ]
  },
  {
   "cell_type": "code",
   "execution_count": null,
   "metadata": {
    "collapsed": true,
    "deletable": true,
    "editable": true
   },
   "outputs": [],
   "source": [
    "# now train/fit your model"
   ]
  },
  {
   "cell_type": "code",
   "execution_count": null,
   "metadata": {
    "collapsed": true,
    "deletable": true,
    "editable": true
   },
   "outputs": [],
   "source": []
  },
  {
   "cell_type": "code",
   "execution_count": null,
   "metadata": {
    "collapsed": true,
    "deletable": true,
    "editable": true
   },
   "outputs": [],
   "source": []
  },
  {
   "cell_type": "code",
   "execution_count": null,
   "metadata": {
    "collapsed": true,
    "deletable": true,
    "editable": true
   },
   "outputs": [],
   "source": [
    "score = model.evaluate(x_test, y_test, verbose=0)\n",
    "print('Test loss:', score[0])\n",
    "print('Test accuracy:', score[1])"
   ]
  }
 ],
 "metadata": {
  "anaconda-cloud": {},
  "kernelspec": {
   "display_name": "Python [conda env:tensorflow]",
   "language": "python",
   "name": "conda-env-tensorflow-py"
  },
  "language_info": {
   "codemirror_mode": {
    "name": "ipython",
    "version": 2
   },
   "file_extension": ".py",
   "mimetype": "text/x-python",
   "name": "python",
   "nbconvert_exporter": "python",
   "pygments_lexer": "ipython2",
   "version": "2.7.13"
  }
 },
 "nbformat": 4,
 "nbformat_minor": 2
}
