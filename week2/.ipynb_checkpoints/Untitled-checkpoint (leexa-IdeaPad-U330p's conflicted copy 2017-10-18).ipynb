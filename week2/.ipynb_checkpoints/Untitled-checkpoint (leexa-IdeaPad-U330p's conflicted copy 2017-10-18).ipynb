{
 "cells": [
  {
   "cell_type": "code",
   "execution_count": 24,
   "metadata": {
    "collapsed": false,
    "deletable": true,
    "editable": true,
    "scrolled": true
   },
   "outputs": [],
   "source": [
    "#%matplotlib inline\n",
    "import matplotlib.pyplot as plt\n",
    "\n",
    "import keras\n",
    "#from keras.datasets import cifar10\n",
    "from keras.preprocessing.image import ImageDataGenerator\n",
    "from keras.models import Sequential, Model\n",
    "from keras.layers import Dense, Dropout, Activation, Flatten, Input\n",
    "from keras.layers import Conv2D, MaxPooling2D ,AveragePooling2D\n",
    "\n",
    "import tensorflow as tf\n",
    "\n",
    "import os\n",
    "import pickle\n",
    "import numpy as np\n",
    "\n",
    "data = np.load('x_data_100_classes_5k.npy.zip')['x_data_100_classes_5k']\n",
    "data = np.array(map(lambda x : np.reshape(x,(28,28,1)) , data))\n",
    "\n",
    "classes = ['airplane','alarm clock','ambulance','angel','ant','anvil','apple','axe','banana','bandage','barn','baseball bat','baseball',\n",
    "           'basket','basketball','bathtub','beach','bear','beard','bed','bee','belt','bicycle','binoculars','birthday cake','blueberry',\n",
    "           'book','boomerang','bottlecap','bowtie','bracelet','brain','bread','broom','bulldozer','bus','bus','butterfly','cactus','cake',\n",
    "           'calculator','calendar','camel','camera','campfire','candle','cannon','canoe','car','carrot','cello','computer',\n",
    "           'cat','chandelier','clock','cloud','coffee cup','compass','cookie','couch','cow','crab','crayon','crocodile','crown',\n",
    "           'cup','diamond','dog','dolphin','donut','dragon','dresser','drill','drums','duck','dumbbell','ear','elbow',\n",
    "           'elephant','envelope','eraser','eye','eyeglasses','face','fan','feather','fence','finger','fire hydrant',\n",
    "           'fireplace','firetruck','fish','flamingo','flashlight','flip flops','floor lamp','flower','flying saucer',\n",
    "           'foot','fork']\n",
    "\n",
    "\n",
    "\n"
   ]
  },
  {
   "cell_type": "code",
   "execution_count": 25,
   "metadata": {
    "collapsed": false
   },
   "outputs": [
    {
     "name": "stdout",
     "output_type": "stream",
     "text": [
      "('x_train shape:', (250000, 28, 28, 1))\n",
      "('y_train shape:', (250000,))\n",
      "(250000, 'train samples')\n",
      "(250000, 'test samples')\n"
     ]
    }
   ],
   "source": [
    "y = np.zeros(500000 ,dtype = np.uint8)\n",
    "label = 0\n",
    "counter = 0\n",
    "for i in range(len(data)):\n",
    "    if classes[label] == 'Bus':\n",
    "        y[i] = 35\n",
    "    else:\n",
    "        y[i] = label\n",
    "    counter += 1\n",
    "    if counter==5000:\n",
    "        counter = 0\n",
    "        label += 1\n",
    "    \n",
    "batch_size = 320\n",
    "num_classes = 100\n",
    "epochs = 50\n",
    "\n",
    "x_train ,y_train = data[0::2],y[0::2]\n",
    "x_test, y_test = data[1::2],y[1::2]\n",
    "print('x_train shape:', x_train.shape)\n",
    "print('y_train shape:', y_train.shape)\n",
    "print(x_train.shape[0], 'train samples')\n",
    "print(x_test.shape[0], 'test samples')\n",
    "\n",
    "y_train = keras.utils.to_categorical(y_train, num_classes)\n",
    "y_test = keras.utils.to_categorical(y_test, num_classes)\n",
    "\n"
   ]
  },
  {
   "cell_type": "code",
   "execution_count": 26,
   "metadata": {
    "collapsed": false
   },
   "outputs": [
    {
     "name": "stdout",
     "output_type": "stream",
     "text": [
      "____________________________________________________________________________________________________\n",
      "Layer (type)                     Output Shape          Param #     Connected to                     \n",
      "====================================================================================================\n",
      "Input_layer (InputLayer)         (None, 28, 28, 1)     0                                            \n",
      "____________________________________________________________________________________________________\n",
      "batch_normalization_4 (BatchNorm (None, 28, 28, 1)     4           Input_layer[0][0]                \n",
      "____________________________________________________________________________________________________\n",
      "Conv01_layerA (Conv2D)           (None, 28, 28, 32)    320         batch_normalization_4[0][0]      \n",
      "____________________________________________________________________________________________________\n",
      "Conv01_layerB (Conv2D)           (None, 28, 28, 32)    320         batch_normalization_4[0][0]      \n",
      "____________________________________________________________________________________________________\n",
      "Conv02_layerA (Conv2D)           (None, 26, 26, 32)    9248        Conv01_layerA[0][0]              \n",
      "____________________________________________________________________________________________________\n",
      "Conv02_layerB (Conv2D)           (None, 26, 26, 32)    9248        Conv01_layerB[0][0]              \n",
      "____________________________________________________________________________________________________\n",
      "MaxPool01_layerA (MaxPooling2D)  (None, 13, 13, 32)    0           Conv02_layerA[0][0]              \n",
      "____________________________________________________________________________________________________\n",
      "AvgPool01_layerB (AveragePooling (None, 13, 13, 32)    0           Conv02_layerB[0][0]              \n",
      "____________________________________________________________________________________________________\n",
      "Dropout01_layerA (Dropout)       (None, 13, 13, 32)    0           MaxPool01_layerA[0][0]           \n",
      "____________________________________________________________________________________________________\n",
      "Dropout01_layerB (Dropout)       (None, 13, 13, 32)    0           AvgPool01_layerB[0][0]           \n",
      "____________________________________________________________________________________________________\n",
      "concatenate_3 (Concatenate)      (None, 13, 13, 64)    0           Dropout01_layerA[0][0]           \n",
      "                                                                   Dropout01_layerB[0][0]           \n",
      "____________________________________________________________________________________________________\n",
      "batch_normalization_5 (BatchNorm (None, 13, 13, 64)    256         concatenate_3[0][0]              \n",
      "____________________________________________________________________________________________________\n",
      "Conv03_layerA (Conv2D)           (None, 13, 13, 64)    36928       batch_normalization_5[0][0]      \n",
      "____________________________________________________________________________________________________\n",
      "Conv03_layerB (Conv2D)           (None, 13, 13, 64)    36928       batch_normalization_5[0][0]      \n",
      "____________________________________________________________________________________________________\n",
      "Conv04_layerA (Conv2D)           (None, 11, 11, 64)    36928       Conv03_layerA[0][0]              \n",
      "____________________________________________________________________________________________________\n",
      "Conv04_layerB (Conv2D)           (None, 11, 11, 64)    36928       Conv03_layerB[0][0]              \n",
      "____________________________________________________________________________________________________\n",
      "MaxPool02_layerA (MaxPooling2D)  (None, 5, 5, 64)      0           Conv04_layerA[0][0]              \n",
      "____________________________________________________________________________________________________\n",
      "AvgPool02_layerB (AveragePooling (None, 5, 5, 64)      0           Conv04_layerB[0][0]              \n",
      "____________________________________________________________________________________________________\n",
      "Dropout02_layerA (Dropout)       (None, 5, 5, 64)      0           MaxPool02_layerA[0][0]           \n",
      "____________________________________________________________________________________________________\n",
      "Dropout02_layerB (Dropout)       (None, 5, 5, 64)      0           AvgPool02_layerB[0][0]           \n",
      "____________________________________________________________________________________________________\n",
      "concatenate_4 (Concatenate)      (None, 5, 5, 128)     0           Dropout02_layerA[0][0]           \n",
      "                                                                   Dropout02_layerB[0][0]           \n",
      "____________________________________________________________________________________________________\n",
      "batch_normalization_6 (BatchNorm (None, 5, 5, 128)     512         concatenate_4[0][0]              \n",
      "____________________________________________________________________________________________________\n",
      "Conv05_layer (Conv2D)            (None, 3, 3, 256)     295168      batch_normalization_6[0][0]      \n",
      "____________________________________________________________________________________________________\n",
      "Conv06_layer (Conv2D)            (None, 2, 2, 256)     262400      Conv05_layer[0][0]               \n",
      "____________________________________________________________________________________________________\n",
      "Dropout03_layer (Dropout)        (None, 2, 2, 256)     0           Conv06_layer[0][0]               \n",
      "____________________________________________________________________________________________________\n",
      "Flatten_layer (Flatten)          (None, 1024)          0           Dropout03_layer[0][0]            \n",
      "____________________________________________________________________________________________________\n",
      "Dense_layer (Dense)              (None, 512)           524800      Flatten_layer[0][0]              \n",
      "____________________________________________________________________________________________________\n",
      "Dense_Relu (Activation)          (None, 512)           0           Dense_layer[0][0]                \n",
      "____________________________________________________________________________________________________\n",
      "Dropout04_layer (Dropout)        (None, 512)           0           Dense_Relu[0][0]                 \n",
      "____________________________________________________________________________________________________\n",
      "logits_layer (Dense)             (None, 100)           51300       Dropout04_layer[0][0]            \n",
      "____________________________________________________________________________________________________\n",
      "Sofftmax_layer (Activation)      (None, 100)           0           logits_layer[0][0]               \n",
      "====================================================================================================\n",
      "Total params: 1,301,288\n",
      "Trainable params: 1,300,902\n",
      "Non-trainable params: 386\n",
      "____________________________________________________________________________________________________\n"
     ]
    }
   ],
   "source": [
    "Inp0 = Input(shape=(28,28,1),name = 'Input_layer')\n",
    "Inp = keras.layers.BatchNormalization()(Inp0)\n",
    "#ConvBlock 01\n",
    "\n",
    "conv01a = Conv2D(32, (3, 3), padding='same',activation = 'relu', input_shape=Inp.shape,name = 'Conv01_layerA')(Inp)\n",
    "conv02a = Conv2D(32, (3, 3),activation = 'relu',name = 'Conv02_layerA')(conv01a)\n",
    "maxpool_01a = MaxPooling2D(pool_size=(2, 2),name = 'MaxPool01_layerA')(conv02a)\n",
    "drop01a = Dropout(0.25,name = 'Dropout01_layerA')(maxpool_01a)\n",
    "\n",
    "conv01b = Conv2D(32, (3, 3), padding='same',activation = 'relu', input_shape=Inp.shape,name = 'Conv01_layerB')(Inp)\n",
    "conv02b = Conv2D(32, (3, 3),activation = 'relu',name = 'Conv02_layerB')(conv01b)\n",
    "avgpool_01b = AveragePooling2D(pool_size=(2, 2),name = 'AvgPool01_layerB')(conv02b)\n",
    "drop01b = Dropout(0.25,name = 'Dropout01_layerB')(avgpool_01b)\n",
    "drop01_p = keras.layers.concatenate([drop01a,drop01b])\n",
    "\n",
    "#Convblock 02\n",
    "drop01 = keras.layers.BatchNormalization()(drop01_p)\n",
    "conv03a = Conv2D(64, (3, 3), padding='same',activation = 'relu',name = 'Conv03_layerA')(drop01)\n",
    "conv04a = Conv2D(64, (3, 3),activation = 'relu',name = 'Conv04_layerA')(conv03a)\n",
    "maxpool_02a = MaxPooling2D(pool_size=(2, 2),name = 'MaxPool02_layerA')(conv04a)\n",
    "drop02a = Dropout(0.25,name = 'Dropout02_layerA')(maxpool_02a)\n",
    "\n",
    "conv03b = Conv2D(64, (3, 3), padding='same',activation = 'relu',name = 'Conv03_layerB')(drop01)\n",
    "conv04b = Conv2D(64, (3, 3),activation = 'relu',name = 'Conv04_layerB')(conv03b)\n",
    "Avgpool_02b = AveragePooling2D(pool_size=(2, 2),name = 'AvgPool02_layerB')(conv04b)\n",
    "drop02b = Dropout(0.25,name = 'Dropout02_layerB')(Avgpool_02b)\n",
    "\n",
    "drop02_p = keras.layers.concatenate([drop02a,drop02b])\n",
    "#ConvBLock 03\n",
    "drop02 = keras.layers.BatchNormalization()(drop02_p)\n",
    "conv05 = Conv2D(256, (3, 3),activation = 'relu',name = 'Conv05_layer')(drop02)\n",
    "conv06 = Conv2D(256, (2, 2),activation = 'relu',name = 'Conv06_layer')(conv05)\n",
    "drop03 = Dropout(0.25,name = 'Dropout03_layer')(conv06)\n",
    "\n",
    "# Fully Connected Dense block\n",
    "x = Flatten(name = 'Flatten_layer')(drop03)\n",
    "x = Dense(512, name = 'Dense_layer')(x)\n",
    "x = Activation('relu',name='Dense_Relu') (x)\n",
    "x = Dropout(0.5,name = 'Dropout04_layer')(x)\n",
    "logits_layer = Dense(num_classes, name= 'logits_layer')(x)\n",
    "output = Activation('softmax',name = 'Sofftmax_layer')(logits_layer)\n",
    "\n",
    "# Define model inputs and output\n",
    "model = Model(Inp0, output)\n",
    "model.summary()\n",
    "\n",
    "# initiate RMSprop optimizer\n",
    "opt = keras.optimizers.rmsprop(lr=0.0003, decay=1e-4) #decays by two orders of magnitude\n",
    "\n",
    "# Let's train the model using RMSprop\n",
    "model.compile(loss='categorical_crossentropy',\n",
    "              optimizer=opt,\n",
    "              metrics=['accuracy'])\n"
   ]
  },
  {
   "cell_type": "code",
   "execution_count": 27,
   "metadata": {
    "collapsed": false
   },
   "outputs": [],
   "source": [
    "model.load_weights('weight.h5')"
   ]
  },
  {
   "cell_type": "code",
   "execution_count": 28,
   "metadata": {
    "collapsed": false
   },
   "outputs": [
    {
     "ename": "MemoryError",
     "evalue": "",
     "output_type": "error",
     "traceback": [
      "\u001b[0;31m---------------------------------------------------------------------------\u001b[0m",
      "\u001b[0;31mMemoryError\u001b[0m                               Traceback (most recent call last)",
      "\u001b[0;32m<ipython-input-28-17ba37309159>\u001b[0m in \u001b[0;36m<module>\u001b[0;34m()\u001b[0m\n\u001b[1;32m      3\u001b[0m \u001b[0mx_train\u001b[0m \u001b[0;34m/=\u001b[0m \u001b[0;36m255\u001b[0m\u001b[0;34m\u001b[0m\u001b[0m\n\u001b[1;32m      4\u001b[0m \u001b[0mx_test\u001b[0m \u001b[0;34m/=\u001b[0m \u001b[0;36m255\u001b[0m\u001b[0;34m\u001b[0m\u001b[0m\n\u001b[0;32m----> 5\u001b[0;31m \u001b[0my_train\u001b[0m \u001b[0;34m=\u001b[0m \u001b[0mkeras\u001b[0m\u001b[0;34m.\u001b[0m\u001b[0mutils\u001b[0m\u001b[0;34m.\u001b[0m\u001b[0mto_categorical\u001b[0m\u001b[0;34m(\u001b[0m\u001b[0my_train\u001b[0m\u001b[0;34m,\u001b[0m \u001b[0mnum_classes\u001b[0m\u001b[0;34m)\u001b[0m\u001b[0;34m\u001b[0m\u001b[0m\n\u001b[0m\u001b[1;32m      6\u001b[0m \u001b[0my_test\u001b[0m \u001b[0;34m=\u001b[0m \u001b[0mkeras\u001b[0m\u001b[0;34m.\u001b[0m\u001b[0mutils\u001b[0m\u001b[0;34m.\u001b[0m\u001b[0mto_categorical\u001b[0m\u001b[0;34m(\u001b[0m\u001b[0my_test\u001b[0m\u001b[0;34m,\u001b[0m \u001b[0mnum_classes\u001b[0m\u001b[0;34m)\u001b[0m\u001b[0;34m\u001b[0m\u001b[0m\n",
      "\u001b[0;32m/usr/local/lib/python2.7/dist-packages/keras/utils/np_utils.pyc\u001b[0m in \u001b[0;36mto_categorical\u001b[0;34m(y, num_classes)\u001b[0m\n\u001b[1;32m     22\u001b[0m         \u001b[0mnum_classes\u001b[0m \u001b[0;34m=\u001b[0m \u001b[0mnp\u001b[0m\u001b[0;34m.\u001b[0m\u001b[0mmax\u001b[0m\u001b[0;34m(\u001b[0m\u001b[0my\u001b[0m\u001b[0;34m)\u001b[0m \u001b[0;34m+\u001b[0m \u001b[0;36m1\u001b[0m\u001b[0;34m\u001b[0m\u001b[0m\n\u001b[1;32m     23\u001b[0m     \u001b[0mn\u001b[0m \u001b[0;34m=\u001b[0m \u001b[0my\u001b[0m\u001b[0;34m.\u001b[0m\u001b[0mshape\u001b[0m\u001b[0;34m[\u001b[0m\u001b[0;36m0\u001b[0m\u001b[0;34m]\u001b[0m\u001b[0;34m\u001b[0m\u001b[0m\n\u001b[0;32m---> 24\u001b[0;31m     \u001b[0mcategorical\u001b[0m \u001b[0;34m=\u001b[0m \u001b[0mnp\u001b[0m\u001b[0;34m.\u001b[0m\u001b[0mzeros\u001b[0m\u001b[0;34m(\u001b[0m\u001b[0;34m(\u001b[0m\u001b[0mn\u001b[0m\u001b[0;34m,\u001b[0m \u001b[0mnum_classes\u001b[0m\u001b[0;34m)\u001b[0m\u001b[0;34m)\u001b[0m\u001b[0;34m\u001b[0m\u001b[0m\n\u001b[0m\u001b[1;32m     25\u001b[0m     \u001b[0mcategorical\u001b[0m\u001b[0;34m[\u001b[0m\u001b[0mnp\u001b[0m\u001b[0;34m.\u001b[0m\u001b[0marange\u001b[0m\u001b[0;34m(\u001b[0m\u001b[0mn\u001b[0m\u001b[0;34m)\u001b[0m\u001b[0;34m,\u001b[0m \u001b[0my\u001b[0m\u001b[0;34m]\u001b[0m \u001b[0;34m=\u001b[0m \u001b[0;36m1\u001b[0m\u001b[0;34m\u001b[0m\u001b[0m\n\u001b[1;32m     26\u001b[0m     \u001b[0;32mreturn\u001b[0m \u001b[0mcategorical\u001b[0m\u001b[0;34m\u001b[0m\u001b[0m\n",
      "\u001b[0;31mMemoryError\u001b[0m: "
     ]
    }
   ],
   "source": [
    "x_train = x_train.astype('float32')\n",
    "x_test = x_test.astype('float32')\n",
    "x_train /= 255\n",
    "x_test /= 255"
   ]
  },
  {
   "cell_type": "code",
   "execution_count": 29,
   "metadata": {
    "collapsed": false
   },
   "outputs": [
    {
     "name": "stdout",
     "output_type": "stream",
     "text": [
      "(250000, 28, 28, 1)\n",
      "(250000, 100)\n",
      "(250000, 28, 28, 1)\n",
      "(250000, 100)\n"
     ]
    }
   ],
   "source": [
    "print x_train.shape\n",
    "print y_train.shape\n",
    "print x_test.shape\n",
    "print y_test.shape"
   ]
  },
  {
   "cell_type": "code",
   "execution_count": 32,
   "metadata": {
    "collapsed": true
   },
   "outputs": [],
   "source": [
    "callbacks = [\n",
    "    keras.callbacks.EarlyStopping(monitor='val_acc', patience=5, verbose=0),\n",
    "    ]"
   ]
  },
  {
   "cell_type": "code",
   "execution_count": null,
   "metadata": {
    "collapsed": false,
    "deletable": true,
    "editable": true
   },
   "outputs": [
    {
     "name": "stdout",
     "output_type": "stream",
     "text": [
      "Train on 2500 samples, validate on 250 samples\n",
      "Epoch 1/5\n",
      "1280/2500 [==============>...............] - ETA: 17s - loss: 4.4332 - acc: 0.0375\b\b\b\b\b\b\b\b\b\b\b\b\b\b\b\b\b\b\b\b\b\b\b\b\b\b\b\b\b\b\b\b\b\b\b\b\b\b\b\b\b\b\b\b\b\b\b\b\b\b\b\b\b\b\b\b\b\b\b\b\b\b\b\b\b\b\b\b\b\b\b\b\b\b\b\b\b\b\b\b\b\b\b\b\b\b\b\b\b\b\b\b\b\b\b\b\b\b\b\b\b\b\b\b\b\b\b\b\b\b\b\b\b\b\b\b\b\b\b\b\b\b\b\b\b\b\b\b\b\b\b\b\b\b\b\b\b\b\b\b\b\b\b\b\b\b\b\b\b\b\b\b\b\b\b\b\b\b\b\b\b\b\b\b\b\b\b\b\b\b\b\b\b\b\b\b\b\b\b\b\b\b\b\b\b\b\b\b\b\b\b\b\b\b\b\b\b\b\b\b\b\b\b\b\b\b\b\b\b\b\b\b\b\b\b\b\b\b\b\b\b\b\b\b\b\b\b\b\b\b\b\b\b\b\b\b\b\b\b\b\b\b\b\b\b\b"
     ]
    }
   ],
   "source": [
    "hist = model.fit(x_train[0::10], y_train[0::10],batch_size,\n",
    "                           5,verbose = 1,\n",
    "                           validation_data=(x_test[0::1000], y_test[0::1000]),callbacks=callbacks)"
   ]
  },
  {
   "cell_type": "code",
   "execution_count": null,
   "metadata": {
    "collapsed": true
   },
   "outputs": [],
   "source": [
    "# get top 5 predictions\n",
    "pred = model.predict(x_test[::100],1000)\n",
    "pred2 = map( lambda x: x.argsort()[-5:],pred)\n",
    "print len(pred),len(pred2)\n",
    "classes = ['airplane','alarm clock','ambulance','angel','ant','anvil','apple','axe','banana','bandage','barn','baseball bat','baseball',\n",
    "           'basket','basketball','bathtub','beach','bear','beard','bed','bee','belt','bicycle','binoculars','birthday cake','blueberry',\n",
    "           'book','boomerang','bottlecap','bowtie','bracelet','brain','bread','broom','bulldozer','bus','bus','butterfly','cactus','cake',\n",
    "           'calculator','calendar','camel','camera','campfire','candle','cannon','canoe','car','carrot','cello','computer',\n",
    "           'cat','chandelier','clock','cloud','coffee cup','compass','cookie','couch','cow','crab','crayon','crocodile','crown',\n",
    "           'cup','diamond','dog','dolphin','donut','dragon','dresser','drill','drums','duck','dumbbell','ear','elbow',\n",
    "           'elephant','envelope','eraser','eye','eyeglasses','face','fan','feather','fence','finger','fire hydrant',\n",
    "           'fireplace','firetruck','fish','flamingo','flashlight','flip flops','floor lamp','flower','flying saucer',\n",
    "           'foot','fork']"
   ]
  }
 ],
 "metadata": {
  "kernelspec": {
   "display_name": "Python 2",
   "language": "python",
   "name": "python2"
  },
  "language_info": {
   "codemirror_mode": {
    "name": "ipython",
    "version": 2
   },
   "file_extension": ".py",
   "mimetype": "text/x-python",
   "name": "python",
   "nbconvert_exporter": "python",
   "pygments_lexer": "ipython2",
   "version": "2.7.12"
  }
 },
 "nbformat": 4,
 "nbformat_minor": 2
}
